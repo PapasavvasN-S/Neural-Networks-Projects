{
  "nbformat": 4,
  "nbformat_minor": 0,
  "metadata": {
    "accelerator": "GPU",
    "colab": {
      "name": "Nomao Dataset classification.ipynb",
      "provenance": [],
      "collapsed_sections": [],
      "toc_visible": true,
      "machine_shape": "hm"
    },
    "kernelspec": {
      "display_name": "Python 3",
      "language": "python",
      "name": "python3"
    },
    "language_info": {
      "codemirror_mode": {
        "name": "ipython",
        "version": 3
      },
      "file_extension": ".py",
      "mimetype": "text/x-python",
      "name": "python",
      "nbconvert_exporter": "python",
      "pygments_lexer": "ipython3",
      "version": "3.7.4"
    }
  },
  "cells": [
    {
      "cell_type": "markdown",
      "metadata": {
        "id": "V3AdcqABXEQK"
      },
      "source": [
        "###Β. Εισαγωγή του dataset\n",
        "To dataset μας ονομάζεται **Nomao** και ανήκει στην κατηγορία των υπολογιστών. Είναι ουσιαστικά μια μηχανή αναζήτησης για τοποθεσίες και μαζεύοντας διάφορα δεδομένα(όνομα, διεύθυνση, ιστοσελίδα, τηλέφωνο κτλ) μιας συγκεκριμένες τοποθεσίας, αποφασίζει αν θα ενώσει αυτές τις τοποθεσίες αφού ανήκουν στην ίδια περιοχή.\n",
        "\n"
      ]
    },
    {
      "cell_type": "code",
      "metadata": {
        "colab": {
          "base_uri": "https://localhost:8080/",
          "height": 627
        },
        "id": "MPFR9zwWb65_",
        "outputId": "f4aae0b1-4aab-473a-f48d-87ed4615d77b"
      },
      "source": [
        "!pip install --upgrade pip\n",
        "!pip install --upgrade scikit-learn\n",
        "!pip install --upgrade pandas\n",
        "!pip install --upgrade numpy\n",
        "!pip install --upgrade scipy\n",
        "!pip install --upgrade joblib\n",
        "!pip install --upgrade imblearn"
      ],
      "execution_count": null,
      "outputs": [
        {
          "output_type": "stream",
          "text": [
            "Requirement already up-to-date: pip in c:\\users\\papas\\anaconda3\\lib\\site-packages (19.3.1)\n",
            "Requirement already up-to-date: scikit-learn in c:\\users\\papas\\anaconda3\\lib\\site-packages (0.22)\n",
            "Requirement already satisfied, skipping upgrade: numpy>=1.11.0 in c:\\users\\papas\\anaconda3\\lib\\site-packages (from scikit-learn) (1.17.4)\n",
            "Requirement already satisfied, skipping upgrade: scipy>=0.17.0 in c:\\users\\papas\\anaconda3\\lib\\site-packages (from scikit-learn) (1.4.0)\n",
            "Requirement already satisfied, skipping upgrade: joblib>=0.11 in c:\\users\\papas\\anaconda3\\lib\\site-packages (from scikit-learn) (0.14.1)\n",
            "Requirement already up-to-date: pandas in c:\\users\\papas\\anaconda3\\lib\\site-packages (0.25.3)\n",
            "Requirement already satisfied, skipping upgrade: pytz>=2017.2 in c:\\users\\papas\\anaconda3\\lib\\site-packages (from pandas) (2019.3)\n",
            "Requirement already satisfied, skipping upgrade: numpy>=1.13.3 in c:\\users\\papas\\anaconda3\\lib\\site-packages (from pandas) (1.17.4)\n",
            "Requirement already satisfied, skipping upgrade: python-dateutil>=2.6.1 in c:\\users\\papas\\anaconda3\\lib\\site-packages (from pandas) (2.8.0)\n",
            "Requirement already satisfied, skipping upgrade: six>=1.5 in c:\\users\\papas\\anaconda3\\lib\\site-packages (from python-dateutil>=2.6.1->pandas) (1.12.0)\n",
            "Requirement already up-to-date: numpy in c:\\users\\papas\\anaconda3\\lib\\site-packages (1.17.4)\n",
            "Collecting scipy\n",
            "  Downloading https://files.pythonhosted.org/packages/61/51/046cbc61c7607e5ecead6ff1a9453fba5e7e47a5ea8d608cc7036586a5ef/scipy-1.4.1-cp37-cp37m-win_amd64.whl (30.9MB)\n",
            "Requirement already satisfied, skipping upgrade: numpy>=1.13.3 in c:\\users\\papas\\anaconda3\\lib\\site-packages (from scipy) (1.17.4)\n",
            "Installing collected packages: scipy\n",
            "  Found existing installation: scipy 1.4.0\n",
            "    Uninstalling scipy-1.4.0:\n",
            "      Successfully uninstalled scipy-1.4.0\n",
            "Successfully installed scipy-1.4.1\n",
            "Requirement already up-to-date: joblib in c:\\users\\papas\\anaconda3\\lib\\site-packages (0.14.1)\n",
            "Requirement already up-to-date: imblearn in c:\\users\\papas\\anaconda3\\lib\\site-packages (0.0)\n",
            "Requirement already satisfied, skipping upgrade: imbalanced-learn in c:\\users\\papas\\anaconda3\\lib\\site-packages (from imblearn) (0.6.1)\n",
            "Requirement already satisfied, skipping upgrade: scipy>=0.17 in c:\\users\\papas\\anaconda3\\lib\\site-packages (from imbalanced-learn->imblearn) (1.4.1)\n",
            "Requirement already satisfied, skipping upgrade: numpy>=1.11 in c:\\users\\papas\\anaconda3\\lib\\site-packages (from imbalanced-learn->imblearn) (1.17.4)\n",
            "Requirement already satisfied, skipping upgrade: scikit-learn>=0.22 in c:\\users\\papas\\anaconda3\\lib\\site-packages (from imbalanced-learn->imblearn) (0.22)\n",
            "Requirement already satisfied, skipping upgrade: joblib>=0.11 in c:\\users\\papas\\anaconda3\\lib\\site-packages (from imbalanced-learn->imblearn) (0.14.1)\n"
          ],
          "name": "stdout"
        }
      ]
    },
    {
      "cell_type": "code",
      "metadata": {
        "id": "SjwiFPBpb8Ul"
      },
      "source": [
        "import numpy as np\n",
        "import pandas as pd\n",
        "\n",
        "df = pd.read_csv(\"Nomao.data\", na_values=[\"?\"], header=None) "
      ],
      "execution_count": null,
      "outputs": []
    },
    {
      "cell_type": "code",
      "metadata": {
        "colab": {
          "base_uri": "https://localhost:8080/",
          "height": 1000
        },
        "id": "72u1yLhjc02J",
        "outputId": "1a0cc1ef-05bd-4af6-ae95-fc96fb3b3ea3"
      },
      "source": [
        "np_data = df.values\n",
        "data = np_data[:,0:-1]  # Ξεχωρίζουμε τα data από τις ετικέτες\n",
        "dataTargets = np_data[:,-1]  # Οι ετικέτες\n",
        "pd.set_option('display.max_rows', 1000)\n",
        "print(df.head())\n",
        "print(df.shape)\n",
        "print(df.dtypes) "
      ],
      "execution_count": null,
      "outputs": [
        {
          "output_type": "stream",
          "text": [
            "   0    1     2         3         4         5         6   7   8    9    ...  \\\n",
            "0  0#1  1.0  1.00  1.000000  1.000000  1.000000  1.000000   s   s  NaN  ...   \n",
            "1  0#2  1.0  0.75  0.857143  0.857143  0.894737  0.947368   s   n  NaN  ...   \n",
            "2  0#3  1.0  1.00  1.000000  1.000000  1.000000  1.000000   s   s  NaN  ...   \n",
            "3  4#5  1.0  0.75  0.857143  0.857143  0.842105  0.833333   s   n  1.0  ...   \n",
            "4  6#7  0.0  0.00  0.250000  0.000000  0.250000  0.000000   n   n  NaN  ...   \n",
            "\n",
            "        110       111  112       113       114       115 116  117       118  \\\n",
            "0  0.750000  0.500000    n  0.999953  0.777778  0.461538   n  1.0  1.000000   \n",
            "1  0.500000  0.307692    n  0.999983  0.538462  0.437500   n  1.0  1.000000   \n",
            "2  0.666667  0.461538    n  0.999993  0.800000  0.666667   n  1.0  1.000000   \n",
            "3  0.500000  0.285714    n  0.998605  0.555556  0.384615   n  1.0  0.999994   \n",
            "4       NaN       NaN    m       NaN       NaN       NaN   m  1.0       NaN   \n",
            "\n",
            "   119  \n",
            "0    1  \n",
            "1    1  \n",
            "2    1  \n",
            "3    1  \n",
            "4    1  \n",
            "\n",
            "[5 rows x 120 columns]\n",
            "(34465, 120)\n",
            "0       object\n",
            "1      float64\n",
            "2      float64\n",
            "3      float64\n",
            "4      float64\n",
            "5      float64\n",
            "6      float64\n",
            "7       object\n",
            "8       object\n",
            "9      float64\n",
            "10     float64\n",
            "11     float64\n",
            "12     float64\n",
            "13     float64\n",
            "14     float64\n",
            "15      object\n",
            "16      object\n",
            "17     float64\n",
            "18     float64\n",
            "19     float64\n",
            "20     float64\n",
            "21     float64\n",
            "22     float64\n",
            "23      object\n",
            "24      object\n",
            "25     float64\n",
            "26     float64\n",
            "27     float64\n",
            "28     float64\n",
            "29     float64\n",
            "30     float64\n",
            "31      object\n",
            "32      object\n",
            "33     float64\n",
            "34     float64\n",
            "35     float64\n",
            "36     float64\n",
            "37     float64\n",
            "38     float64\n",
            "39      object\n",
            "40      object\n",
            "41     float64\n",
            "42     float64\n",
            "43     float64\n",
            "44     float64\n",
            "45     float64\n",
            "46     float64\n",
            "47      object\n",
            "48      object\n",
            "49     float64\n",
            "50     float64\n",
            "51     float64\n",
            "52     float64\n",
            "53     float64\n",
            "54     float64\n",
            "55      object\n",
            "56      object\n",
            "57     float64\n",
            "58     float64\n",
            "59     float64\n",
            "60     float64\n",
            "61     float64\n",
            "62     float64\n",
            "63      object\n",
            "64      object\n",
            "65     float64\n",
            "66     float64\n",
            "67     float64\n",
            "68     float64\n",
            "69     float64\n",
            "70     float64\n",
            "71      object\n",
            "72      object\n",
            "73     float64\n",
            "74     float64\n",
            "75     float64\n",
            "76     float64\n",
            "77     float64\n",
            "78     float64\n",
            "79      object\n",
            "80      object\n",
            "81     float64\n",
            "82     float64\n",
            "83     float64\n",
            "84     float64\n",
            "85     float64\n",
            "86     float64\n",
            "87      object\n",
            "88      object\n",
            "89     float64\n",
            "90     float64\n",
            "91     float64\n",
            "92      object\n",
            "93     float64\n",
            "94     float64\n",
            "95     float64\n",
            "96      object\n",
            "97     float64\n",
            "98     float64\n",
            "99     float64\n",
            "100     object\n",
            "101    float64\n",
            "102    float64\n",
            "103    float64\n",
            "104     object\n",
            "105    float64\n",
            "106    float64\n",
            "107    float64\n",
            "108     object\n",
            "109    float64\n",
            "110    float64\n",
            "111    float64\n",
            "112     object\n",
            "113    float64\n",
            "114    float64\n",
            "115    float64\n",
            "116     object\n",
            "117    float64\n",
            "118    float64\n",
            "119      int64\n",
            "dtype: object\n"
          ],
          "name": "stdout"
        }
      ]
    },
    {
      "cell_type": "markdown",
      "metadata": {
        "id": "K5BZ4qGpdSqH"
      },
      "source": [
        "Ο αριθμός δειγμάτων είναι 34465, τα χαρακτηριστικά τους είναι 118 και το είδος τους είναι **object**, **float64** και **int64**. Πολλά από τα χαρακτηριστικά ενώ είναι κυρίως πχ float64 παίρνουν το είδος object γιατί μερικές τιμές δεν υπάρχουν και στη θέση τους μπαίνει \"?\". Η τελευταία στήλη είναι οι ετικέτες και η πρώτη στήλη είναι τα id. Δεν υπάρχουν μη διατεταγμένα χαρακτηριστικά."
      ]
    },
    {
      "cell_type": "markdown",
      "metadata": {
        "id": "GGr-KFGElseO"
      },
      "source": [
        "Τυπώνοντας τις πρώτες 5 γραμμές του αρχείου, παρατηρούμε ότι δεν υπάρχουν ούτε επικεφαλίδες, ούτε αρίθμηση γραμμών. Η πρώτη στήλη είναι τα id. "
      ]
    },
    {
      "cell_type": "code",
      "metadata": {
        "colab": {
          "base_uri": "https://localhost:8080/",
          "height": 797
        },
        "id": "63jmZxYXmIdt",
        "outputId": "cd54826e-d0e9-4831-b994-044edb0bc55e"
      },
      "source": [
        "print(df.values[0:5,:])"
      ],
      "execution_count": null,
      "outputs": [
        {
          "output_type": "stream",
          "text": [
            "[['0#1' 1.0 1.0 1.0 1.0 1.0 1.0 's' 's' nan nan nan nan nan nan 'm' 'm'\n",
            "  nan nan nan nan nan nan 'm' 'm' nan nan nan nan nan nan 'm' 'm' nan nan\n",
            "  nan nan nan nan 'm' 'm' nan nan nan nan nan nan 'm' 'm' 1.0 1.0 1.0 1.0\n",
            "  1.0 1.0 's' 's' 0.833333 0.714286 0.8461540000000001 0.8 0.804878\n",
            "  0.731707 'n' 'n' 1.0 1.0 1.0 1.0 1.0 1.0 's' 's' 1.0 1.0 1.0 1.0 1.0\n",
            "  1.0 's' 's' 1.0 1.0 1.0 1.0 1.0 1.0 's' 's' nan nan nan 'm' nan nan nan\n",
            "  'm' 1.0 1.0 1.0 's' 1.0 1.0 1.0 's' 1.0 1.0 1.0 's' 0.9999670010889999\n",
            "  0.75 0.5 'n' 0.999953002209 0.777777777778 0.46153846383100006 'n' 1.0\n",
            "  0.999999996702 1]\n",
            " ['0#2' 1.0 0.75 0.857143 0.857143 0.8947370000000001 0.947368 's' 'n'\n",
            "  nan nan nan nan nan nan 'm' 'm' nan nan nan nan nan nan 'm' 'm' nan nan\n",
            "  nan nan nan nan 'm' 'm' nan nan nan nan nan nan 'm' 'm' nan nan nan nan\n",
            "  nan nan 'm' 'm' 1.0 1.0 1.0 1.0 1.0 1.0 's' 's' 0.833333 0.714286\n",
            "  0.8461540000000001 0.8 0.891892 0.810811 'n' 'n' 1.0 1.0 1.0 1.0 1.0\n",
            "  1.0 's' 's' 1.0 1.0 1.0 1.0 1.0 1.0 's' 's' 1.0 1.0 1.0 1.0 1.0 1.0 's'\n",
            "  's' nan nan nan 'm' nan nan nan 'm' 1.0 1.0 1.0 's' 1.0 1.0 1.0 's' 1.0\n",
            "  1.0 1.0 's' 0.9998070372419999 0.5 0.307692319155 'n' 0.999982921892\n",
            "  0.538461538462 0.4375 'n' 1.0 0.999999962459 1]\n",
            " ['0#3' 1.0 1.0 1.0 1.0 1.0 1.0 's' 's' nan nan nan nan nan nan 'm' 'm'\n",
            "  nan nan nan nan nan nan 'm' 'm' nan nan nan nan nan nan 'm' 'm' nan nan\n",
            "  nan nan nan nan 'm' 'm' nan nan nan nan nan nan 'm' 'm' 1.0 1.0 1.0 1.0\n",
            "  1.0 1.0 's' 's' 0.833333 0.833333 0.916667 0.866667 0.9705879999999999\n",
            "  0.882353 'n' 'n' 1.0 1.0 1.0 1.0 1.0 1.0 's' 's' 1.0 1.0 1.0 1.0 1.0\n",
            "  1.0 's' 's' 1.0 1.0 1.0 1.0 1.0 1.0 's' 's' nan nan nan 'm' nan nan nan\n",
            "  'm' 1.0 1.0 1.0 's' 1.0 1.0 1.0 's' 1.0 1.0 1.0 's' 0.999982900292\n",
            "  0.666666666667 0.46153846383100006 'n' 0.999992600055 0.8\n",
            "  0.6666666865349999 'n' 1.0 0.9999999996529999 1]\n",
            " ['4#5' 1.0 0.75 0.857143 0.857143 0.8421049999999999 0.833333 's' 'n'\n",
            "  1.0 1.0 1.0 1.0 1.0 1.0 's' 's' 1.0 1.0 1.0 1.0 1.0 1.0 's' 's' 1.0 1.0\n",
            "  1.0 1.0 1.0 1.0 's' 's' nan nan nan nan nan nan 'm' 'm' nan nan nan nan\n",
            "  nan nan 'm' 'm' 1.0 1.0 1.0 1.0 1.0 1.0 's' 's' 0.8 0.571429 0.791667\n",
            "  0.7617520000000001 0.8709680000000001 0.78125 'n' 'n' 1.0 1.0 1.0 1.0\n",
            "  1.0 1.0 's' 's' 1.0 1.0 1.0 1.0 1.0 1.0 's' 's' 1.0 1.0 1.0 1.0 1.0 1.0\n",
            "  's' 's' 1.46868813298e-09 0.272727272727 0.09090909361839998 'n' nan\n",
            "  nan nan 'm' 1.0 1.0 1.0 's' 0.9997736512450001 0.555555555556\n",
            "  0.333333343267 'n' 0.9999618014589999 0.5 0.29411765933 'n'\n",
            "  0.998022916602 0.5 0.28571429848700003 'n' 0.998604948886\n",
            "  0.555555555556 0.384615391493 'n' 0.9999999472840001 0.999994124065 1]\n",
            " ['6#7' 0.0 0.0 0.25 0.0 0.25 0.0 'n' 'n' nan nan nan nan nan nan 'm' 'm'\n",
            "  nan nan nan nan nan nan 'm' 'm' nan nan nan nan nan nan 'm' 'm' nan nan\n",
            "  nan nan nan nan 'm' 'm' nan nan nan nan nan nan 'm' 'm' 1.0 1.0 1.0 1.0\n",
            "  1.0 1.0 's' 's' 1.0 1.0 1.0 1.0 0.666667 1.0 's' 's' 1.0 1.0 1.0 1.0\n",
            "  1.0 1.0 's' 's' 1.0 1.0 1.0 1.0 1.0 1.0 's' 's' 1.0 1.0 1.0 1.0 1.0 1.0\n",
            "  's' 's' 1.0 1.0 1.0 's' nan nan nan 'm' nan nan nan 'n' 1.0 1.0 1.0 's'\n",
            "  1.0 1.0 1.0 's' nan nan nan 'm' nan nan nan 'm' 1.0 nan 1]]\n"
          ],
          "name": "stdout"
        }
      ]
    },
    {
      "cell_type": "markdown",
      "metadata": {
        "id": "YkHldapEpO3H"
      },
      "source": [
        "Οι ετικέτες είναι \"+1\" και \"-1\", βρίσκονται στην τελευταία στήλη και υπάρχουν για να ξέρουμε κατά πόσο θα ενώσουμε συγκεκριμένες οντότητες μεταξύ τους, λόγω του ότι έχουν κοινά χαρακτηριστικά. Αν δεν έχουν τότε δε θα ενωθούν και η ετικέτα θα είναι \"-1\"."
      ]
    },
    {
      "cell_type": "code",
      "metadata": {
        "colab": {
          "base_uri": "https://localhost:8080/",
          "height": 35
        },
        "id": "NmImzNgh_UMT",
        "outputId": "0f6fd2aa-5a5c-49f9-c329-1e29eb68f26c"
      },
      "source": [
        "# Υπολογίζουμε τον αριθμό δειγμάτων με απουσιάζουσες τιμές\n",
        "#cat Nomao.data | grep \"?\" |  wc -l"
      ],
      "execution_count": null,
      "outputs": [
        {
          "output_type": "stream",
          "text": [
            "34465\n"
          ],
          "name": "stdout"
        }
      ]
    },
    {
      "cell_type": "code",
      "metadata": {
        "colab": {
          "base_uri": "https://localhost:8080/",
          "height": 34
        },
        "id": "JRNNqVLa_i-3",
        "outputId": "d77af1ec-bb2a-40b7-881c-b47476ad889d"
      },
      "source": [
        "print(\"Ποσοστό δειγμάτων(γραμμών) με απουσιάζουσες τιμές:\", 34465/len(data)*100 , \"%\")"
      ],
      "execution_count": null,
      "outputs": [
        {
          "output_type": "stream",
          "text": [
            "Ποσοστό δειγμάτων(γραμμών) με απουσιάζουσες τιμές: 100.0 %\n"
          ],
          "name": "stdout"
        }
      ]
    },
    {
      "cell_type": "code",
      "metadata": {
        "id": "wHK2RukewZfb",
        "outputId": "bd28f37a-4234-4583-bab1-56928dd041c5"
      },
      "source": [
        "# Διαγράφουμε την πρώτη στήλη που είναι τα id\n",
        "data = data[:,1:]\n",
        "print(data.shape)"
      ],
      "execution_count": null,
      "outputs": [
        {
          "output_type": "stream",
          "text": [
            "(34465, 118)\n"
          ],
          "name": "stdout"
        }
      ]
    },
    {
      "cell_type": "code",
      "metadata": {
        "colab": {
          "base_uri": "https://localhost:8080/",
          "height": 118
        },
        "id": "DIoHEhYwzgNV",
        "outputId": "0aed5780-6856-4ac1-e245-3e3f1bca1adf"
      },
      "source": [
        "frequencies = pd.value_counts(dataTargets)  # Μετράμε την συχνότητα εμφάνισης των δειγμάτων της κάθε κλάσης \n",
        "print(\"Συχνότητα εμφάνισης των δειγμάτων της κάθε κλάσης:\")\n",
        "print(frequencies)\n",
        "for i in frequencies:\n",
        "  print(\"Ποσοστό: \", i/len(dataTargets)*100, '%')  "
      ],
      "execution_count": null,
      "outputs": [
        {
          "output_type": "stream",
          "text": [
            "Συχνότητα εμφάνισης των δειγμάτων της κάθε κλάσης:\n",
            " 1    24621\n",
            "-1     9844\n",
            "dtype: int64\n",
            "Ποσοστό:  71.43769041056144 %\n",
            "Ποσοστό:  28.562309589438563 %\n"
          ],
          "name": "stdout"
        }
      ]
    },
    {
      "cell_type": "markdown",
      "metadata": {
        "id": "pCzpZ3z_3tXT"
      },
      "source": [
        "\n",
        "<font size=\"2\">Παρατηρούμε ότι έχουμε δύο κλάσεις την **'1'** και την **'-1'**. Τα ποσοστά φαίνονται πιο πάνω και το dataset δεν είναι ισορροπημένο.</font>\n",
        "\n",
        "\n",
        "\n"
      ]
    },
    {
      "cell_type": "markdown",
      "metadata": {
        "id": "tWhGMm9_6urY"
      },
      "source": [
        "Για να χειριστούμε τις απουσιάζουσες τιμές, μελετήσαμε το αρχείο **Nomao.names** που περιέχει πληροφορίες σχετικά με το είδος (text ή number) του dataset, πήραμε τις στήλες που είναι text και τις διαχωρίσαμε από αυτές που είναι numbers, φτιάχνοντας 2 πίνακες ξεχωριστούς, για να τρέξουμε στους μεν αριθμούς έναν **imputer mean** και στα text **imputer most_frequent**."
      ]
    },
    {
      "cell_type": "code",
      "metadata": {
        "id": "ot72a3RMhVC5"
      },
      "source": [
        "# df = pd.read_csv(\"Nomao.data\", na_values=[\"?\"], header=None) \n",
        "# np_data = df.values\n",
        "# data = np_data[:,0:-1]  # Ξεχωρίζουμε τα data από τις ετικέτες\n",
        "# dataTargets = np_data[:,-1]  # Οι ετικέτες\n",
        "# # Διαγράφουμε την πρώτη στήλη που είναι τα id\n",
        "# data = data[:,1:]"
      ],
      "execution_count": null,
      "outputs": []
    },
    {
      "cell_type": "code",
      "metadata": {
        "id": "eouFzgBDZRAx"
      },
      "source": [
        "from sklearn.model_selection import train_test_split\n",
        "import sys\n",
        "\n",
        "np.set_printoptions(threshold=sys.maxsize)\n",
        "\n",
        "labels_df = df.iloc[:, [-1]]\n",
        "mapping = {1: 0, -1: 1}\n",
        "labels_df = labels_df.replace(mapping)\n",
        "# μετατρέπουμε το dataframe σε μονοδιάστατο array\n",
        "data_labels = labels_df.values.flatten()\n",
        "\n",
        "#χωρίζουμε τα δεδομένα σε train σε test\n",
        "train, test, train_labels, test_labels = train_test_split(data, data_labels, test_size=0.30) "
      ],
      "execution_count": null,
      "outputs": []
    },
    {
      "cell_type": "code",
      "metadata": {
        "id": "tBIgUOuKhGVq"
      },
      "source": [
        "from sklearn.impute import SimpleImputer\n",
        "\n",
        "nominal_indexes = [6,7,14,15,22,23,30,31,38,39,46,47,54,55,62,63,70,71,78,79,86,87,91,95,99,103,107,111,115]\n",
        "\n",
        "train_numbers = train.copy()\n",
        "train_strings = train.copy()\n",
        "test_numbers = test.copy()\n",
        "test_strings = test.copy()\n",
        "count1 = 0\n",
        "count2 = 0\n",
        "\n",
        "for i in range(0,data.shape[1]):\n",
        "  c = 0\n",
        "  if i in nominal_indexes:\n",
        "    train_numbers = np.delete(train_numbers, i-count1, 1)\n",
        "    test_numbers = np.delete(test_numbers, i-count1, 1)\n",
        "    count1 += 1\n",
        "  else:\n",
        "    train_strings = np.delete(train_strings, i-count2, 1)\n",
        "    test_strings = np.delete(test_strings, i-count2, 1)\n",
        "    count2 += 1\n",
        "\n",
        "#Χρησιμοποιούμε τον Imputer για να αντικαταστήσουμε τις απουσιάζουσες τιμές\n",
        "imp = SimpleImputer(strategy=\"mean\")\n",
        "np.set_printoptions(threshold=sys.maxsize)\n",
        "imputed_train_numbers = imp.fit_transform(train_numbers)\n",
        "imputed_train_numbers = imp.transform(train_numbers)\n",
        "imputed_test_numbers = imp.transform(test_numbers)\n",
        "# print(\"Numbers data χωρίς απουσιάζουσες τιμές:\\n\", imputed_train_numbers[0:5,:])\n",
        "\n",
        "imp = SimpleImputer(strategy=\"most_frequent\")\n",
        "np.set_printoptions(threshold=sys.maxsize)\n",
        "imputed_train_strings = imp.fit_transform(train_strings)\n",
        "imputed_train_strings = imp.transform(train_strings)\n",
        "imputed_test_strings = imp.transform(test_strings)\n",
        "# print(\"Strings data χωρίς απουσιάζουσες τιμές:\\n\", imputed_train_strings[0:5,:])\n",
        "\n",
        "train = np.concatenate((imputed_train_numbers,imputed_train_strings),axis=1)\n",
        "test = np.concatenate((imputed_test_numbers,imputed_test_strings),axis=1)"
      ],
      "execution_count": null,
      "outputs": []
    },
    {
      "cell_type": "code",
      "metadata": {
        "colab": {
          "base_uri": "https://localhost:8080/",
          "height": 252
        },
        "id": "QYdMv_CjEPUb",
        "outputId": "88adef98-c696-4791-e77a-2e5f0554cac8"
      },
      "source": [
        "# μετατρέπουμε σε dataframe\n",
        "df_train = pd.DataFrame(train)\n",
        "df_test = pd.DataFrame(test)\n",
        "# οι κολόνες 89-117 (στο τέλος του πίνακα df_train) έχουν κατηγορικές μεταβλητές. \n",
        "# Με την \"get_dummies\" κάνουμε τη μετατροπή σε binary χαρακτηριστικά που περιγράψαμε\n",
        "dummies_train = pd.get_dummies(df_train, columns=list(range(89,118)))\n",
        "dummies_test = pd.get_dummies(df_test, columns=list(range(89,118)))\n",
        "print(dummies_test)\n",
        "# Μετατρέπουμε σε αριθμητικές τιμές (pd.to_numeric) και σε numpy array (.values)\n",
        "train = dummies_train.apply(pd.to_numeric).values \n",
        "test = dummies_test.apply(pd.to_numeric).values "
      ],
      "execution_count": null,
      "outputs": [
        {
          "output_type": "stream",
          "text": [
            "              0         1         2         3         4         5         6  \\\n",
            "0             1      0.75  0.857143  0.857143  0.571429  0.607143  0.865152   \n",
            "1             0         0       0.2      0.05  0.181818      0.05         1   \n",
            "2             1         1         1         1         1         1         0   \n",
            "3             1  0.333333       0.5       0.5      0.35  0.380952  0.865152   \n",
            "4             0         0  0.222857     0.025   0.26087  0.027027  0.865152   \n",
            "...         ...       ...       ...       ...       ...       ...       ...   \n",
            "10335  0.666667       0.5  0.645125  0.571429       0.4      0.25  0.865152   \n",
            "10336         1       0.8  0.888889  0.888889  0.682927      0.75  0.865152   \n",
            "10337         1         1         1         1         1         1         1   \n",
            "10338       0.5  0.333333       0.7       0.5  0.909091  0.692308  0.865152   \n",
            "10339         1       0.6      0.75      0.75  0.575758  0.689655  0.865152   \n",
            "\n",
            "              7         8          9  ... 114_s 115_m 115_n 115_s 116_m 116_n  \\\n",
            "0      0.825052   0.88531   0.857206  ...     0     0     1     0     1     0   \n",
            "1             1         1          1  ...     0     0     1     0     0     1   \n",
            "2             0  0.283333  0.0285714  ...     0     0     1     0     1     0   \n",
            "3      0.825052   0.88531   0.857206  ...     0     0     1     0     0     1   \n",
            "4      0.825052   0.88531   0.857206  ...     1     0     0     1     1     0   \n",
            "...         ...       ...        ...  ...   ...   ...   ...   ...   ...   ...   \n",
            "10335  0.825052   0.88531   0.857206  ...     0     0     1     0     1     0   \n",
            "10336  0.825052   0.88531   0.857206  ...     1     0     0     1     1     0   \n",
            "10337         1         1          1  ...     0     0     1     0     1     0   \n",
            "10338  0.825052   0.88531   0.857206  ...     0     0     1     0     0     1   \n",
            "10339  0.825052   0.88531   0.857206  ...     0     0     1     0     1     0   \n",
            "\n",
            "      116_s 117_m 117_n 117_s  \n",
            "0         0     1     0     0  \n",
            "1         0     0     1     0  \n",
            "2         0     1     0     0  \n",
            "3         0     0     1     0  \n",
            "4         0     1     0     0  \n",
            "...     ...   ...   ...   ...  \n",
            "10335     0     1     0     0  \n",
            "10336     0     1     0     0  \n",
            "10337     0     1     0     0  \n",
            "10338     0     0     1     0  \n",
            "10339     0     1     0     0  \n",
            "\n",
            "[10340 rows x 174 columns]\n"
          ],
          "name": "stdout"
        }
      ]
    },
    {
      "cell_type": "code",
      "metadata": {
        "colab": {
          "base_uri": "https://localhost:8080/",
          "height": 50
        },
        "id": "wtn_497Gb9Jt",
        "outputId": "488aad08-e51b-4a86-fdee-2afe81261a3a"
      },
      "source": [
        "print(train.shape)\n",
        "print(test.shape)"
      ],
      "execution_count": null,
      "outputs": [
        {
          "output_type": "stream",
          "text": [
            "(24125, 174)\n",
            "(10340, 174)\n"
          ],
          "name": "stdout"
        }
      ]
    },
    {
      "cell_type": "code",
      "metadata": {
        "id": "fTh7lFO0d_f4"
      },
      "source": [
        "#Dummy Classifiers\n",
        "\n",
        "from sklearn.dummy import DummyClassifier\n",
        "\n",
        "#Δημιουργία - ορισμός των dummy classifiers\n",
        "dc_uniform = DummyClassifier(strategy=\"uniform\")\n",
        "dc_constant_0 = DummyClassifier(strategy=\"constant\", constant=0)\n",
        "dc_constant_1 = DummyClassifier(strategy=\"constant\", constant=1)  \n",
        "dc_most_frequent = DummyClassifier(strategy=\"most_frequent\")\n",
        "dc_stratified = DummyClassifier(strategy=\"stratified\")\n",
        "\n",
        "pred = {} #Εδώ θα αποθηκεύσουμε όλες τις εκτιμήσεις των classifiers\n",
        "\n",
        "#με τη μέθοδο fit \"εκπαιδεύουμε\" τον ταξινομητή στο σύνολο εκπαίδευσης (τα χαρακτηριστικά και τις ετικέτες τους)\n",
        "model = dc_uniform.fit(train, train_labels)\n",
        "pred['uniform (random)'] = dc_uniform.predict(test)\n",
        "model = dc_constant_0.fit(train, train_labels)\n",
        "pred['constant 0'] = dc_constant_0.predict(test)\n",
        "model = dc_constant_1.fit(train, train_labels)\n",
        "pred['constant 1'] = dc_constant_1.predict(test)\n",
        "model = dc_most_frequent.fit(train, train_labels)\n",
        "pred['most frequent label'] = dc_most_frequent.predict(test)\n",
        "model = dc_stratified.fit(train, train_labels)\n",
        "pred['stratified'] = dc_stratified.predict(test)"
      ],
      "execution_count": null,
      "outputs": []
    },
    {
      "cell_type": "code",
      "metadata": {
        "id": "plBX6BoVmDIc"
      },
      "source": [
        "#KNN Classifier\n",
        "\n",
        "from sklearn.neighbors import KNeighborsClassifier\n",
        "\n",
        "knn = KNeighborsClassifier()\n",
        "knn.fit(train, train_labels)\n",
        "#Αποθηκεύουμε την τιμή της στον πίνακά μας με τα αποτελέσματα από τα άλλα classifiers\n",
        "pred['knn'] = knn.predict(test)"
      ],
      "execution_count": null,
      "outputs": []
    },
    {
      "cell_type": "code",
      "metadata": {
        "id": "wkON9Z1Wld7D"
      },
      "source": [
        "#Naive Bayes Classifier\n",
        "\n",
        "from sklearn.naive_bayes import GaussianNB\n",
        "\n",
        "gnb = GaussianNB()\n",
        "# κάνουμε εκπαίδευση (fit) δηλαδή ουσιαστικά υπολογίζουμε μέση τιμή και διακύμανση για όλα τα χαρακτηριστικά και κλάσεις στο training set\n",
        "model = gnb.fit(train, train_labels)\n",
        "#Αποθηκεύουμε την τιμή της στον πίνακά μας με τα αποτελέσματα από τα άλλα classifiers\n",
        "pred['gaussian naive bayes'] = gnb.predict(test)"
      ],
      "execution_count": null,
      "outputs": []
    },
    {
      "cell_type": "code",
      "metadata": {
        "id": "sDNFqo7H0CN1",
        "outputId": "6ff9d186-919d-42b9-b60b-733f167bbada"
      },
      "source": [
        "#MLP Classifier\n",
        "from sklearn.neural_network import MLPClassifier\n",
        "from sklearn.metrics import classification_report\n",
        "\n",
        "mlp = MLPClassifier()\n",
        "\n",
        "mlp.fit(train,train_labels)\n",
        "pred['mlp'] = mlp.predict(test)"
      ],
      "execution_count": null,
      "outputs": [
        {
          "output_type": "stream",
          "text": [
            "C:\\Users\\papas\\Anaconda3\\lib\\site-packages\\sklearn\\neural_network\\_multilayer_perceptron.py:571: ConvergenceWarning: Stochastic Optimizer: Maximum iterations (200) reached and the optimization hasn't converged yet.\n",
            "  % self.max_iter, ConvergenceWarning)\n"
          ],
          "name": "stderr"
        }
      ]
    },
    {
      "cell_type": "code",
      "metadata": {
        "colab": {
          "base_uri": "https://localhost:8080/",
          "height": 927
        },
        "id": "L0jMd8hBBUII",
        "outputId": "89d9c593-f7e1-4e35-9474-11ed614a62d3"
      },
      "source": [
        "#Yπολογισμός των f1 micro και macro average, confusion matrix \n",
        "from sklearn.metrics import precision_recall_fscore_support, classification_report, confusion_matrix\n",
        "\n",
        "micro_avg_f1 = []\n",
        "macro_avg_f1 = [] \n",
        "classifiers = []\n",
        "for classifier, pred in pred.items():\n",
        "    # υπολογισμός του confusion matrix για κάθε estimator\n",
        "    cnf_matrix = confusion_matrix(test_labels, pred)\n",
        "    print(\"Confusion Matrix\",classifier, \"\\n\",cnf_matrix)\n",
        "    avg = precision_recall_fscore_support(test_labels, pred, average='micro', zero_division=0)\n",
        "    micro_avg_f1.append(avg[2])\n",
        "    print(classifier, \" - micro: \", avg[2])\n",
        "    avg = precision_recall_fscore_support(test_labels, pred, average='macro', zero_division=0)\n",
        "    macro_avg_f1.append(avg[2])\n",
        "    print(classifier, \" - macro: \", avg[2], \"\\n\")\n",
        "    classifiers.append(classifier)"
      ],
      "execution_count": null,
      "outputs": [
        {
          "output_type": "stream",
          "text": [
            "Confusion Matrix uniform (random) \n",
            " [[3701 3678]\n",
            " [1523 1438]]\n",
            "uniform (random)  - micro:  0.49700193423597677\n",
            "uniform (random)  - macro:  0.47169663927882266 \n",
            "\n",
            "Confusion Matrix constant 0 \n",
            " [[7379    0]\n",
            " [2961    0]]\n",
            "constant 0  - micro:  0.7136363636363637\n",
            "constant 0  - macro:  0.41644562334217505 \n",
            "\n",
            "Confusion Matrix constant 1 \n",
            " [[   0 7379]\n",
            " [   0 2961]]\n",
            "constant 1  - micro:  0.2863636363636364\n",
            "constant 1  - macro:  0.2226148409893993 \n",
            "\n",
            "Confusion Matrix most frequent label \n",
            " [[7379    0]\n",
            " [2961    0]]\n",
            "most frequent label  - micro:  0.7136363636363637\n",
            "most frequent label  - macro:  0.41644562334217505 \n",
            "\n",
            "Confusion Matrix stratified \n",
            " [[5275 2104]\n",
            " [2124  837]]\n",
            "stratified  - micro:  0.5911025145067699\n",
            "stratified  - macro:  0.4987658530023863 \n",
            "\n",
            "Confusion Matrix knn \n",
            " [[7117  262]\n",
            " [ 266 2695]]\n",
            "knn  - micro:  0.948936170212766\n",
            "knn  - macro:  0.9375065789838171 \n",
            "\n",
            "Confusion Matrix gaussian naive bayes \n",
            " [[6896  483]\n",
            " [1296 1665]]\n",
            "gaussian naive bayes  - micro:  0.8279497098646035\n",
            "gaussian naive bayes  - macro:  0.7687700530968085 \n",
            "\n",
            "Confusion Matrix mlp \n",
            " [[7186  193]\n",
            " [ 216 2745]]\n",
            "mlp  - micro:  0.9604448742746615\n",
            "mlp  - macro:  0.951497778167564 \n",
            "\n"
          ],
          "name": "stdout"
        }
      ]
    },
    {
      "cell_type": "code",
      "metadata": {
        "colab": {
          "base_uri": "https://localhost:8080/",
          "height": 846
        },
        "id": "COxZXUMTBW0n",
        "outputId": "2a389451-c5f2-4258-e21a-5b0f30d75971"
      },
      "source": [
        "#Bar plots for f1-micro average\n",
        "%matplotlib inline\n",
        "import matplotlib.pyplot as plt\n",
        "\n",
        "y = np.arange(len(classifiers))\n",
        "\n",
        "fig1, ax1 = plt.subplots()\n",
        "fig1.set_size_inches(8,4)\n",
        "\n",
        "plt.bar(y, micro_avg_f1, align='center')\n",
        "plt.xticks(y, classifiers, rotation = 60, fontsize = 12)\n",
        "plt.title(\"f1 score for micro average\", fontsize = 18)\n",
        "plt.xlabel(\"$Classifiers$\", fontsize = 16)\n",
        "plt.ylabel(\"$f1\\ score$\", fontsize = 16)\n",
        "plt.show()\n",
        "\n",
        "print(\"\\n\")\n",
        "\n",
        "#Bar for f1-macro average\n",
        "fig2, ax2 = plt.subplots()\n",
        "fig2.set_size_inches(8,4)\n",
        "\n",
        "plt.bar(y, macro_avg_f1, align='center')\n",
        "plt.xticks(y, classifiers, rotation = 60, fontsize = 12)\n",
        "plt.title(\"f1 score for macro average\", fontsize = 18)\n",
        "plt.xlabel(\"$Classifiers$\", fontsize = 16)\n",
        "plt.ylabel(\"$f1\\ score$\", fontsize = 16)\n",
        "plt.show()\n"
      ],
      "execution_count": null,
      "outputs": [
        {
          "output_type": "display_data",
          "data": {
            "image/png": "[encoded data removed]",
            "text/plain": [
              "<Figure size 576x288 with 1 Axes>"
            ]
          },
          "metadata": {
            "tags": [],
            "needs_background": "light"
          }
        },
        {
          "output_type": "stream",
          "text": [
            "\n",
            "\n"
          ],
          "name": "stdout"
        },
        {
          "output_type": "display_data",
          "data": {
            "image/png": "[encoded data removed]",
            "text/plain": [
              "<Figure size 576x288 with 1 Axes>"
            ]
          },
          "metadata": {
            "tags": [],
            "needs_background": "light"
          }
        }
      ]
    },
    {
      "cell_type": "markdown",
      "metadata": {
        "id": "uRWdoGwcwZfz"
      },
      "source": [
        "Αρχικά επισημαίνουμε ότι κάθε γραμμή ενός confusion matrix αντιστοιχίζεται σε μία κατηγορία ετικετών ('-1' και '1'). Τα στοιχεία εκτός διαγωνίου σε κάθε γραμμή είναι **false negative**, δηλαδή δεν κατηγοριοποιήθηκαν στην κατηγορία της γραμμής ενώ ανήκαν. Άρα με παρατήρηση των γραμμών εξετάζω το recall. Αντίστοιχα, κάθε στήλη ενός confusion matrix αντιστοιχίζεται επίσης σε μία κατηγορία ετικετών. Τα στοιχεία εκτός διαγωνίου σε κάθε στήλη είναι **false positive**, δηλαδή κατηγοριοποιήθηκαν στην κατηγορία της στήλης ενώ δεν ανήκαν. Άρα με παρατήρηση των στηλών εξετάζω το precision.<br>\n",
        "**uniform (random)**: Στον πίνακα υπάρχουν μη μηδενικές (αλλά και υψηλές) τιμές στα κελιά εκτός διαγωνίου κάτι που μας εκφράζει κακό recall και precision. Ο λόγος είναι καθαρά η σχεδίαση του ταξινομητή ο οποίος ταξινομεί τυχαία, με ομοιόμορφη πιθανότητα τα δείγματα του test set σε κλάσεις. <br>\n",
        "**constant_x**: Σε κάθε πίνακα constant_x όλα τα δείγματα έχουν ταξινομηθεί στην κλάση x και γι' αυτό οι μόνες μη μηδενικες τιμές στον πίνακα είναι η στήλη x. Αυτό μας δίνει κακό precision και recall σε όλες τις κλάσεις εκτός της κλάσης x όπου το precision αναμένεται πολύ μικρό αλλά το recall αναμένεται μέγιστο, δηλαδή 1. Π.χ., στον πίνακα του contant_1 η γραμμή 1 έχει μηδενικά όλα τα στοιχεία εκτός διαγωνίου (βέλτιστο recall), ενώ η στήλη 1 έχει παντού μη μηδενικά στοιχεία (κακό precision).<br>\n",
        "**most frequent label**: Ο ταξινομητής αυτός είναι ίδιος με τον  constant_x, όπου x είναι η πιο συχνά εμφανιζόμενη κλάση στο train set. Επομένως ίσχυουν τα ίδια σχόλια με πριν. Μπορούμε να πούμε ότι αυτός ο ταξινομητής είναι ό,τι καλύτερο μπορεί να πετύχει ένας constant ταξινομητής.<br>\n",
        "**stratified** :Στον πίνακα υπάρχουν μη μηδενικές (αλλά και υψηλές) τιμές στα κελιά εκτός διαγωνίου κάτι που μας εκφράζει κακό recall και precision. Ο λόγος είναι καθαρά η σχεδίαση του ταξινομητή ο οποίος ταξινομεί με βάση τη συχνότητα εμφάνισης των δειγμάτων στις κλάσεις στο train set.<br>\n",
        "**knn** :Συνολικά είναι καλύτερος σε όλα σε σχέση με όλους τους προηγούμενους. H ταξινόμηση είναι ικανοποιητική, αν λάβουμε και υπόψιν ότι η υπερπαράμετρος k έχει επιλεγεί τυχαία και δεν έχει υπολογισθεί η βέλτιστη. Η σχεδίαση του knn δίνει γενικά καλά αποτελέσματα λόγω του ότι βασίζεται σε μία πιο αλγοριθμική προσέγγιση και καθορίζεται από τη συμπεριφορά των γειτονικών δειγμάτων. <br> \n",
        "**gaussian naive bayes** :Οι τιμές εκτός διαγωνίου αυτού του πίνακα είναι μικρές που σημαίνει ότι έχουμε κλό recall-precision συνολικά στις 2 κλάσεις. Είναι εμφανώς καλύτερος από τους dummies classifiers, αλλά ο χειρότερος από τους 3 άλλους ταξινομητές, χωρίς όμως μεγάλη διαφορά. <br>\n",
        "**mlp** :Συνολικά είναι καλύτερος σε όλα σε σχέση με όλους τους προηγούμενους, με τις τιμές εκτός της διαγωνίου να είναι πολύ μικρές, γεγονός που τον θέτει ιδιαίτερα εύστοχο στην ταξινόμηση."
      ]
    },
    {
      "cell_type": "markdown",
      "metadata": {
        "id": "auUCyKYAU6W9"
      },
      "source": [
        "###Δ. Βελτιστοποίηση ταξινομητών\n",
        "\n",
        "Σε αυτό το μέρος θα βελτιστοποιήσουμε τους ταξινομητές **knn**, **gaussian naive bayes** και **mlp** που περιγράφηκαν παραπάνω. Αυτο θα το επιτύχουμε βρίσκοντας τα στάδια προεπεξεργασίας (με τη χρήση pipelines) και τις υπερπαραμέτρους (με τη χρήση grid-search) για τον καθένα ξεχωριστά ώστε να πετυχαίνουν όσο το δυνατόν υψηλότερη απόδοση."
      ]
    },
    {
      "cell_type": "code",
      "metadata": {
        "id": "p0E3cg81C8L4"
      },
      "source": [
        "# #επειδή το dataset μας δεν είναι εξισορροπημένο, κάνουμε oversampling για να το εξισορροπήσουμε\n",
        "# from imblearn.over_sampling import RandomOverSampler\n",
        "# from sklearn.preprocessing import MultiLabelBinarizer\n",
        "# # αρχικοποίηση του RandomOverSampler\n",
        "# ros = RandomOverSampler()\n",
        "# # o RandomOverSampler θέλει τις ετικέτες όχι ως δυαδικό διάνυσμα αλλά ως αριθμό κλάσης. \n",
        "# # το [0 0 1 0 0] πρέπει να γίνει 2 κοκ\n",
        "\n",
        "# mlb = MultiLabelBinarizer().fit(['0', '1'])\n",
        "# train_resampled, trainTargets_resampled = ros.fit_sample(train,train_labels)\n",
        "# # ξαναφέρνουμε τα labels σε binary μορφή\n",
        "# # trainTargets_resampled = mlb.transform(trainTargets_resampled)\n",
        "\n",
        "# # εκτυπώνουμε τις νέες διαστάσεις του train set\n",
        "# print(train_resampled.shape)\n",
        "# print(trainTargets_resampled.shape)\n",
        "# # επιβεβαιώνουμε ότι τα labels είναι στη binary μορφή\n",
        "# # print(trainTargets_resampled)\n",
        "# # επιβεβαιώνουμε ότι το training set έχει εξισορροπηθεί με oversampling\n",
        "# # summ = trainTargets_resampled.T.sum(axis=1)\n",
        "# # print(summ) #πλήθος ανα κλάση \n",
        "# # print(summ.sum()) #σύνολο δειγμάτων\n",
        "# # Μετράμε την συχνότητα εμφάνισης των δειγμάτων της κάθε κλάσης\n",
        "# frequencies = pd.value_counts(trainTargets_resampled)   \n",
        "# print(\"Συχνότητα εμφάνισης των δειγμάτων της κάθε κλάσης:\")\n",
        "# print(frequencies)\n",
        "# for i in frequencies:\n",
        "#   print(\"Ποσοστό: \", i/len(trainTargets_resampled)*100, '%')  \n",
        "# print(trainTargets_resampled.shape)\n",
        "\n",
        "# train = train_resampled\n",
        "# train_labels = trainTargets_resampled"
      ],
      "execution_count": null,
      "outputs": []
    },
    {
      "cell_type": "code",
      "metadata": {
        "colab": {
          "base_uri": "https://localhost:8080/",
          "height": 323
        },
        "id": "OV-DPmWfiQpX",
        "outputId": "96ef9d61-df66-47c4-ff0d-3980a7c46fe9"
      },
      "source": [
        "!pip install --upgrade imbalanced-learn"
      ],
      "execution_count": null,
      "outputs": [
        {
          "output_type": "stream",
          "text": [
            "Requirement already up-to-date: imbalanced-learn in c:\\users\\papas\\anaconda3\\lib\\site-packages (0.6.1)\n",
            "Requirement already satisfied, skipping upgrade: numpy>=1.11 in c:\\users\\papas\\anaconda3\\lib\\site-packages (from imbalanced-learn) (1.17.4)\n",
            "Requirement already satisfied, skipping upgrade: scikit-learn>=0.22 in c:\\users\\papas\\anaconda3\\lib\\site-packages (from imbalanced-learn) (0.22)\n",
            "Requirement already satisfied, skipping upgrade: joblib>=0.11 in c:\\users\\papas\\anaconda3\\lib\\site-packages (from imbalanced-learn) (0.14.1)\n",
            "Requirement already satisfied, skipping upgrade: scipy>=0.17 in c:\\users\\papas\\anaconda3\\lib\\site-packages (from imbalanced-learn) (1.4.1)\n"
          ],
          "name": "stdout"
        }
      ]
    },
    {
      "cell_type": "code",
      "metadata": {
        "id": "7ZjhoGPKsqae"
      },
      "source": [
        "from imblearn.pipeline import Pipeline\n",
        "\n",
        "# φέρνουμε τις γνωστές μας κλάσεις για preprocessing\n",
        "from sklearn import neighbors\n",
        "from sklearn.feature_selection import VarianceThreshold\n",
        "from sklearn.preprocessing import StandardScaler # φέρνουμε τον StandarScaler ως transformer που έχει .transform kai ΄όχι ως scale()\n",
        "from imblearn.over_sampling import RandomOverSampler\n",
        "from sklearn.decomposition import PCA\n",
        "\n",
        "# αρχικοποιούμε τους εκτιμητές (μετασχηματιστές και ταξινομητή) χωρίς παραμέτρους\n",
        "selector = VarianceThreshold()\n",
        "scaler = StandardScaler()\n",
        "ros = RandomOverSampler()\n",
        "pca = PCA()\n",
        "#KNN Classifier\n",
        "clf = neighbors.KNeighborsClassifier()\n",
        "#MLP Classifier\n",
        "mlp = MLPClassifier()\n",
        "#Gaussian NB Classifier\n",
        "gnb = GaussianNB()\n",
        "\n",
        "\n",
        "#Αρχικοποιούμε ένα λεξικό με τα διάφορα pipes\n",
        "pipes = {}\n",
        "\n",
        "# KNN Clasifier\n",
        "#αρχικοποιούμε διάφορα pipelines όπου καθένα συμπεριφέρεται ως ένας ενιαίος estimator\n",
        "pipe1 = Pipeline(steps=[('selector', selector), ('scaler', scaler), ('sampler', ros), ('pca', pca), ('kNN', clf)])\n",
        "pipe2 = Pipeline(steps=[('selector', selector), ('scaler', scaler), ('pca', pca), ('kNN', clf)]) #without ros\n",
        "pipe2 = Pipeline(steps=[('selector', selector), ('kNN', clf)])\n",
        "pipe3 = Pipeline(steps=[('selector', selector), ('sampler', ros), ('kNN', clf)])\n",
        "pipe4 = Pipeline(steps=[('selector', selector), ('scaler', scaler), ('sampler', ros), ('kNN', clf)]) #without pca\n",
        "pipe5 = Pipeline(steps=[('scaler', scaler), ('sampler', ros), ('pca', pca), ('kNN', clf)]) #without selector\n",
        "pipe6 = Pipeline(steps=[('selector', selector), ('sampler', ros), ('pca', pca), ('kNN', clf)])\n",
        "pipe7 = Pipeline(steps=[('sampler', ros), ('pca', pca), ('kNN', clf)])\n",
        "pipe8 = Pipeline(steps=[('sampler', ros), ('kNN', clf)])\n",
        "pipe9 = Pipeline(steps=[('pca', pca), ('kNN', clf)])\n",
        "\n",
        "pipes['pipe1'] = pipe1\n",
        "pipes['pipe2'] = pipe2\n",
        "pipes['pipe3'] = pipe3\n",
        "pipes['pipe4'] = pipe4\n",
        "pipes['pipe5'] = pipe5\n",
        "pipes['pipe6'] = pipe6\n",
        "pipes['pipe7'] = pipe7\n",
        "pipes['pipe8'] = pipe8\n",
        "pipes['pipe9'] = pipe9"
      ],
      "execution_count": null,
      "outputs": []
    },
    {
      "cell_type": "code",
      "metadata": {
        "colab": {
          "base_uri": "https://localhost:8080/",
          "height": 1000
        },
        "id": "Ov-Mgqqwe2Ze",
        "scrolled": false,
        "outputId": "4a7ec82c-dd6c-47ec-86b9-9ee20c50f0c7"
      },
      "source": [
        "#Εκπαιδεύουμε και εφαρμόζουμε το pipeline και παρατηρούμε τα αποτελέσματα\n",
        "for pipe_name, pipe in pipes.items():\n",
        "  pipe.fit(train, train_labels)\n",
        "  preds = pipe.predict(test)\n",
        "  print(pipe_name, \"\\n\", classification_report(test_labels, preds))"
      ],
      "execution_count": null,
      "outputs": [
        {
          "output_type": "stream",
          "text": [
            "pipe1 \n",
            "               precision    recall  f1-score   support\n",
            "\n",
            "           0       0.98      0.93      0.95      7379\n",
            "           1       0.85      0.94      0.90      2961\n",
            "\n",
            "    accuracy                           0.94     10340\n",
            "   macro avg       0.91      0.94      0.93     10340\n",
            "weighted avg       0.94      0.94      0.94     10340\n",
            "\n",
            "pipe2 \n",
            "               precision    recall  f1-score   support\n",
            "\n",
            "           0       0.96      0.96      0.96      7379\n",
            "           1       0.91      0.91      0.91      2961\n",
            "\n",
            "    accuracy                           0.95     10340\n",
            "   macro avg       0.94      0.94      0.94     10340\n",
            "weighted avg       0.95      0.95      0.95     10340\n",
            "\n",
            "pipe3 \n",
            "               precision    recall  f1-score   support\n",
            "\n",
            "           0       0.98      0.94      0.96      7379\n",
            "           1       0.86      0.94      0.90      2961\n",
            "\n",
            "    accuracy                           0.94     10340\n",
            "   macro avg       0.92      0.94      0.93     10340\n",
            "weighted avg       0.94      0.94      0.94     10340\n",
            "\n",
            "pipe4 \n",
            "               precision    recall  f1-score   support\n",
            "\n",
            "           0       0.98      0.93      0.96      7379\n",
            "           1       0.85      0.95      0.90      2961\n",
            "\n",
            "    accuracy                           0.94     10340\n",
            "   macro avg       0.91      0.94      0.93     10340\n",
            "weighted avg       0.94      0.94      0.94     10340\n",
            "\n",
            "pipe5 \n",
            "               precision    recall  f1-score   support\n",
            "\n",
            "           0       0.98      0.93      0.95      7379\n",
            "           1       0.85      0.94      0.89      2961\n",
            "\n",
            "    accuracy                           0.94     10340\n",
            "   macro avg       0.91      0.94      0.92     10340\n",
            "weighted avg       0.94      0.94      0.94     10340\n",
            "\n",
            "pipe6 \n",
            "               precision    recall  f1-score   support\n",
            "\n",
            "           0       0.98      0.94      0.96      7379\n",
            "           1       0.86      0.95      0.90      2961\n",
            "\n",
            "    accuracy                           0.94     10340\n",
            "   macro avg       0.92      0.94      0.93     10340\n",
            "weighted avg       0.94      0.94      0.94     10340\n",
            "\n",
            "pipe7 \n",
            "               precision    recall  f1-score   support\n",
            "\n",
            "           0       0.98      0.94      0.96      7379\n",
            "           1       0.86      0.95      0.90      2961\n",
            "\n",
            "    accuracy                           0.94     10340\n",
            "   macro avg       0.92      0.94      0.93     10340\n",
            "weighted avg       0.95      0.94      0.94     10340\n",
            "\n",
            "pipe8 \n",
            "               precision    recall  f1-score   support\n",
            "\n",
            "           0       0.98      0.94      0.96      7379\n",
            "           1       0.86      0.95      0.90      2961\n",
            "\n",
            "    accuracy                           0.94     10340\n",
            "   macro avg       0.92      0.94      0.93     10340\n",
            "weighted avg       0.94      0.94      0.94     10340\n",
            "\n",
            "pipe9 \n",
            "               precision    recall  f1-score   support\n",
            "\n",
            "           0       0.96      0.96      0.96      7379\n",
            "           1       0.91      0.91      0.91      2961\n",
            "\n",
            "    accuracy                           0.95     10340\n",
            "   macro avg       0.94      0.94      0.94     10340\n",
            "weighted avg       0.95      0.95      0.95     10340\n",
            "\n"
          ],
          "name": "stdout"
        }
      ]
    },
    {
      "cell_type": "code",
      "metadata": {
        "id": "E8rCukYywZf5"
      },
      "source": [
        "# MLP Classifier\n",
        "#MLP Classifier\n",
        "mlp = MLPClassifier()\n",
        "# Αρχικοποιούμε ένα λεξικό με τα διάφορα pipes\n",
        "pipes = {}\n",
        "\n",
        "#αρχικοποιούμε διάφορα pipelines όπου καθένα συμπεριφέρεται ως ένας ενιαίος estimator\n",
        "pipe1 = Pipeline(steps=[('selector', selector), ('scaler', scaler), ('sampler', ros), ('pca', pca), ('mlp', mlp)])\n",
        "pipe2 = Pipeline(steps=[('selector', selector), ('scaler', scaler), ('pca', pca), ('mlp', mlp)]) #without ros\n",
        "pipe2 = Pipeline(steps=[('selector', selector), ('mlp', mlp)])\n",
        "pipe3 = Pipeline(steps=[('selector', selector), ('sampler', ros), ('mlp', mlp)])\n",
        "pipe4 = Pipeline(steps=[('selector', selector), ('scaler', scaler), ('sampler', ros), ('mlp', mlp)]) #without pca\n",
        "pipe5 = Pipeline(steps=[('scaler', scaler), ('sampler', ros), ('pca', pca), ('mlp', mlp)]) #without selector\n",
        "pipe6 = Pipeline(steps=[('selector', selector), ('sampler', ros), ('pca', pca), ('mlp', mlp)])\n",
        "pipe7 = Pipeline(steps=[('sampler', ros), ('pca', pca), ('mlp', mlp)])\n",
        "pipe8 = Pipeline(steps=[('sampler', ros), ('mlp', mlp)])\n",
        "pipe9 = Pipeline(steps=[('pca', pca), ('mlp', mlp)])\n",
        "\n",
        "pipes['pipe1'] = pipe1\n",
        "pipes['pipe2'] = pipe2\n",
        "pipes['pipe3'] = pipe3\n",
        "pipes['pipe4'] = pipe4\n",
        "pipes['pipe5'] = pipe5\n",
        "pipes['pipe6'] = pipe6\n",
        "pipes['pipe7'] = pipe7\n",
        "pipes['pipe8'] = pipe8\n",
        "pipes['pipe9'] = pipe9"
      ],
      "execution_count": null,
      "outputs": []
    },
    {
      "cell_type": "code",
      "metadata": {
        "id": "7ahNi9m5wZf6",
        "outputId": "4532b7f8-bbaf-4ee1-8666-5043f133c947"
      },
      "source": [
        "#Εκπαιδεύουμε και εφαρμόζουμε το pipeline και παρατηρούμε τα αποτελέσματα\n",
        "for pipe_name, pipe in pipes.items():\n",
        "  pipe.fit(train, train_labels)\n",
        "  preds = pipe.predict(test)\n",
        "  print(pipe_name, \"\\n\", classification_report(test_labels, preds))"
      ],
      "execution_count": null,
      "outputs": [
        {
          "output_type": "stream",
          "text": [
            "pipe1 \n",
            "               precision    recall  f1-score   support\n",
            "\n",
            "           0       0.97      0.97      0.97      7379\n",
            "           1       0.93      0.93      0.93      2961\n",
            "\n",
            "    accuracy                           0.96     10340\n",
            "   macro avg       0.95      0.95      0.95     10340\n",
            "weighted avg       0.96      0.96      0.96     10340\n",
            "\n",
            "pipe2 \n",
            "               precision    recall  f1-score   support\n",
            "\n",
            "           0       0.97      0.98      0.97      7379\n",
            "           1       0.94      0.91      0.93      2961\n",
            "\n",
            "    accuracy                           0.96     10340\n",
            "   macro avg       0.95      0.94      0.95     10340\n",
            "weighted avg       0.96      0.96      0.96     10340\n",
            "\n",
            "pipe3 \n",
            "               precision    recall  f1-score   support\n",
            "\n",
            "           0       0.99      0.95      0.97      7379\n",
            "           1       0.88      0.97      0.92      2961\n",
            "\n",
            "    accuracy                           0.95     10340\n",
            "   macro avg       0.93      0.96      0.94     10340\n",
            "weighted avg       0.96      0.95      0.95     10340\n",
            "\n",
            "pipe4 \n",
            "               precision    recall  f1-score   support\n",
            "\n",
            "           0       0.98      0.96      0.97      7379\n",
            "           1       0.91      0.94      0.92      2961\n",
            "\n",
            "    accuracy                           0.96     10340\n",
            "   macro avg       0.94      0.95      0.95     10340\n",
            "weighted avg       0.96      0.96      0.96     10340\n",
            "\n",
            "pipe5 \n",
            "               precision    recall  f1-score   support\n",
            "\n",
            "           0       0.97      0.97      0.97      7379\n",
            "           1       0.93      0.93      0.93      2961\n",
            "\n",
            "    accuracy                           0.96     10340\n",
            "   macro avg       0.95      0.95      0.95     10340\n",
            "weighted avg       0.96      0.96      0.96     10340\n",
            "\n"
          ],
          "name": "stdout"
        },
        {
          "output_type": "stream",
          "text": [
            "C:\\Users\\papas\\Anaconda3\\lib\\site-packages\\sklearn\\neural_network\\_multilayer_perceptron.py:571: ConvergenceWarning: Stochastic Optimizer: Maximum iterations (200) reached and the optimization hasn't converged yet.\n",
            "  % self.max_iter, ConvergenceWarning)\n"
          ],
          "name": "stderr"
        },
        {
          "output_type": "stream",
          "text": [
            "pipe6 \n",
            "               precision    recall  f1-score   support\n",
            "\n",
            "           0       0.97      0.97      0.97      7379\n",
            "           1       0.93      0.94      0.93      2961\n",
            "\n",
            "    accuracy                           0.96     10340\n",
            "   macro avg       0.95      0.95      0.95     10340\n",
            "weighted avg       0.96      0.96      0.96     10340\n",
            "\n"
          ],
          "name": "stdout"
        },
        {
          "output_type": "stream",
          "text": [
            "C:\\Users\\papas\\Anaconda3\\lib\\site-packages\\sklearn\\neural_network\\_multilayer_perceptron.py:571: ConvergenceWarning: Stochastic Optimizer: Maximum iterations (200) reached and the optimization hasn't converged yet.\n",
            "  % self.max_iter, ConvergenceWarning)\n"
          ],
          "name": "stderr"
        },
        {
          "output_type": "stream",
          "text": [
            "pipe7 \n",
            "               precision    recall  f1-score   support\n",
            "\n",
            "           0       0.98      0.97      0.97      7379\n",
            "           1       0.93      0.94      0.93      2961\n",
            "\n",
            "    accuracy                           0.96     10340\n",
            "   macro avg       0.95      0.95      0.95     10340\n",
            "weighted avg       0.96      0.96      0.96     10340\n",
            "\n",
            "pipe8 \n",
            "               precision    recall  f1-score   support\n",
            "\n",
            "           0       0.98      0.96      0.97      7379\n",
            "           1       0.90      0.95      0.93      2961\n",
            "\n",
            "    accuracy                           0.96     10340\n",
            "   macro avg       0.94      0.96      0.95     10340\n",
            "weighted avg       0.96      0.96      0.96     10340\n",
            "\n",
            "pipe9 \n",
            "               precision    recall  f1-score   support\n",
            "\n",
            "           0       0.97      0.97      0.97      7379\n",
            "           1       0.93      0.92      0.93      2961\n",
            "\n",
            "    accuracy                           0.96     10340\n",
            "   macro avg       0.95      0.95      0.95     10340\n",
            "weighted avg       0.96      0.96      0.96     10340\n",
            "\n"
          ],
          "name": "stdout"
        },
        {
          "output_type": "stream",
          "text": [
            "C:\\Users\\papas\\Anaconda3\\lib\\site-packages\\sklearn\\neural_network\\_multilayer_perceptron.py:571: ConvergenceWarning: Stochastic Optimizer: Maximum iterations (200) reached and the optimization hasn't converged yet.\n",
            "  % self.max_iter, ConvergenceWarning)\n"
          ],
          "name": "stderr"
        }
      ]
    },
    {
      "cell_type": "code",
      "metadata": {
        "id": "Yj388dbrwZf8"
      },
      "source": [
        "# GNB Classifier\n",
        "# Αρχικοποιούμε ένα λεξικό με τα διάφορα pipes\n",
        "pipes = {}\n",
        "\n",
        "#αρχικοποιούμε διάφορα pipelines όπου καθένα συμπεριφέρεται ως ένας ενιαίος estimator\n",
        "pipe1 = Pipeline(steps=[('selector', selector), ('scaler', scaler), ('sampler', ros), ('pca', pca), ('gnb', gnb)])\n",
        "pipe2 = Pipeline(steps=[('selector', selector), ('scaler', scaler), ('pca', pca), ('gnb', gnb)]) #without ros\n",
        "pipe2 = Pipeline(steps=[('selector', selector), ('gnb', gnb)])\n",
        "pipe3 = Pipeline(steps=[('selector', selector), ('sampler', ros), ('gnb', gnb)])\n",
        "pipe4 = Pipeline(steps=[('selector', selector), ('scaler', scaler), ('sampler', ros), ('gnb', gnb)]) #without pca\n",
        "pipe5 = Pipeline(steps=[('scaler', scaler), ('sampler', ros), ('pca', pca), ('gnb', gnb)]) #without selector\n",
        "pipe6 = Pipeline(steps=[('selector', selector), ('sampler', ros), ('pca', pca), ('gnb', gnb)])\n",
        "pipe7 = Pipeline(steps=[('sampler', ros), ('pca', pca), ('gnb', gnb)])\n",
        "pipe8 = Pipeline(steps=[('sampler', ros), ('gnb', gnb)])\n",
        "pipe9 = Pipeline(steps=[('pca', pca), ('gnb', gnb)])\n",
        "\n",
        "pipes['pipe1'] = pipe1\n",
        "pipes['pipe2'] = pipe2\n",
        "pipes['pipe3'] = pipe3\n",
        "pipes['pipe4'] = pipe4\n",
        "pipes['pipe5'] = pipe5\n",
        "pipes['pipe6'] = pipe6\n",
        "pipes['pipe7'] = pipe7\n",
        "pipes['pipe8'] = pipe8\n",
        "pipes['pipe9'] = pipe9"
      ],
      "execution_count": null,
      "outputs": []
    },
    {
      "cell_type": "code",
      "metadata": {
        "id": "6oaBZVoYwZf9",
        "outputId": "bbf36c69-bacf-488f-da46-fff567b9ce7c"
      },
      "source": [
        "#Εκπαιδεύουμε και εφαρμόζουμε το pipeline και παρατηρούμε τα αποτελέσματα\n",
        "for pipe_name, pipe in pipes.items():\n",
        "  pipe.fit(train, train_labels)\n",
        "  preds = pipe.predict(test)\n",
        "  print(pipe_name, \"\\n\", classification_report(test_labels, preds))"
      ],
      "execution_count": null,
      "outputs": [
        {
          "output_type": "stream",
          "text": [
            "pipe1 \n",
            "               precision    recall  f1-score   support\n",
            "\n",
            "           0       0.94      0.32      0.47      7379\n",
            "           1       0.36      0.95      0.52      2961\n",
            "\n",
            "    accuracy                           0.50     10340\n",
            "   macro avg       0.65      0.63      0.50     10340\n",
            "weighted avg       0.77      0.50      0.49     10340\n",
            "\n",
            "pipe2 \n",
            "               precision    recall  f1-score   support\n",
            "\n",
            "           0       0.84      0.93      0.89      7379\n",
            "           1       0.78      0.56      0.65      2961\n",
            "\n",
            "    accuracy                           0.83     10340\n",
            "   macro avg       0.81      0.75      0.77     10340\n",
            "weighted avg       0.82      0.83      0.82     10340\n",
            "\n",
            "pipe3 \n",
            "               precision    recall  f1-score   support\n",
            "\n",
            "           0       0.84      0.93      0.89      7379\n",
            "           1       0.78      0.57      0.66      2961\n",
            "\n",
            "    accuracy                           0.83     10340\n",
            "   macro avg       0.81      0.75      0.77     10340\n",
            "weighted avg       0.83      0.83      0.82     10340\n",
            "\n",
            "pipe4 \n",
            "               precision    recall  f1-score   support\n",
            "\n",
            "           0       0.86      0.92      0.89      7379\n",
            "           1       0.76      0.61      0.68      2961\n",
            "\n",
            "    accuracy                           0.83     10340\n",
            "   macro avg       0.81      0.77      0.78     10340\n",
            "weighted avg       0.83      0.83      0.83     10340\n",
            "\n",
            "pipe5 \n",
            "               precision    recall  f1-score   support\n",
            "\n",
            "           0       0.94      0.40      0.56      7379\n",
            "           1       0.39      0.94      0.55      2961\n",
            "\n",
            "    accuracy                           0.55     10340\n",
            "   macro avg       0.66      0.67      0.55     10340\n",
            "weighted avg       0.78      0.55      0.56     10340\n",
            "\n",
            "pipe6 \n",
            "               precision    recall  f1-score   support\n",
            "\n",
            "           0       0.94      0.38      0.54      7379\n",
            "           1       0.38      0.94      0.54      2961\n",
            "\n",
            "    accuracy                           0.54     10340\n",
            "   macro avg       0.66      0.66      0.54     10340\n",
            "weighted avg       0.78      0.54      0.54     10340\n",
            "\n",
            "pipe7 \n",
            "               precision    recall  f1-score   support\n",
            "\n",
            "           0       0.94      0.37      0.53      7379\n",
            "           1       0.37      0.94      0.54      2961\n",
            "\n",
            "    accuracy                           0.53     10340\n",
            "   macro avg       0.66      0.65      0.53     10340\n",
            "weighted avg       0.78      0.53      0.53     10340\n",
            "\n",
            "pipe8 \n",
            "               precision    recall  f1-score   support\n",
            "\n",
            "           0       0.84      0.93      0.89      7379\n",
            "           1       0.77      0.56      0.65      2961\n",
            "\n",
            "    accuracy                           0.83     10340\n",
            "   macro avg       0.81      0.75      0.77     10340\n",
            "weighted avg       0.82      0.83      0.82     10340\n",
            "\n",
            "pipe9 \n",
            "               precision    recall  f1-score   support\n",
            "\n",
            "           0       0.85      0.87      0.86      7379\n",
            "           1       0.66      0.63      0.64      2961\n",
            "\n",
            "    accuracy                           0.80     10340\n",
            "   macro avg       0.76      0.75      0.75     10340\n",
            "weighted avg       0.80      0.80      0.80     10340\n",
            "\n"
          ],
          "name": "stdout"
        }
      ]
    },
    {
      "cell_type": "code",
      "metadata": {
        "colab": {
          "base_uri": "https://localhost:8080/",
          "height": 84
        },
        "id": "7l0xzPdLwAAw",
        "outputId": "dccc27db-dbb0-4074-8348-27f5f4532a8e"
      },
      "source": [
        "#Υπολογίζουμε τη διακύμανση του train set για να δούμε τι τιμές να βάλουμε στο vthreshold \n",
        "train_var = train.var(axis=0)\n",
        "print(train.shape)\n",
        "print(test.shape)\n",
        "print(train_var)\n",
        "print(\"max variance: \", np.max(train_var))\n",
        "print(\"min variance: \", np.min(train_var))"
      ],
      "execution_count": null,
      "outputs": [
        {
          "output_type": "stream",
          "text": [
            "(24125, 174)\n",
            "(10340, 174)\n",
            "[1.79409895e-01 1.43857363e-01 9.30163149e-02 1.36060603e-01\n",
            " 1.05880836e-01 1.38463349e-01 4.08660219e-02 4.36460095e-02\n",
            " 2.22143086e-02 3.24050145e-02 2.64030840e-02 3.29383974e-02\n",
            " 4.41624823e-02 4.42848948e-02 1.63213729e-02 2.79978309e-02\n",
            " 1.68689597e-02 2.85027158e-02 4.82800303e-02 4.55245903e-02\n",
            " 2.84305763e-02 4.23527687e-02 3.18519246e-02 4.76615347e-02\n",
            " 3.69924214e-03 5.96130138e-03 3.18192283e-03 4.49271703e-03\n",
            " 5.25716272e-03 7.16635684e-03 3.33204410e-02 3.33204410e-02\n",
            " 1.17811351e-02 1.91593903e-02 1.19559990e-02 1.91763421e-02\n",
            " 4.40024631e-02 4.46281915e-02 2.70175983e-02 3.75721906e-02\n",
            " 2.73375557e-02 3.77587957e-02 6.40946111e-02 6.41363272e-02\n",
            " 3.69949591e-02 5.48932710e-02 5.05288175e-02 6.55709627e-02\n",
            " 4.10679970e-02 7.83731394e-02 4.12341038e-02 5.44527910e-02\n",
            " 5.45443538e-02 7.36683004e-02 6.56336088e-02 6.63154822e-02\n",
            " 1.82620202e-02 3.78201740e-02 1.67938967e-02 3.77772074e-02\n",
            " 2.90067905e-04 2.90067905e-04 2.90067905e-04 2.90067905e-04\n",
            " 2.90067905e-04 2.90067905e-04 9.16731818e-02 2.68791436e-02\n",
            " 4.97908258e-02 6.47300152e-03 2.09418181e-03 3.92318579e-03\n",
            " 9.51666702e-02 3.17044967e-02 6.36367000e-02 4.87692232e-03\n",
            " 6.89871275e-02 1.38988671e-01 3.11791085e-03 5.48072604e-02\n",
            " 1.19515062e-01 4.79846056e-03 1.89539005e-02 2.96514624e-02\n",
            " 4.00921169e-03 1.52613664e-02 2.41847563e-02 7.48689443e-03\n",
            " 6.88960431e-03 2.49863849e-01 2.49863849e-01 1.88403447e-01\n",
            " 1.88403447e-01 2.29305761e-01 4.72667723e-02 2.12520645e-01\n",
            " 2.29305761e-01 7.25189706e-02 2.00462618e-01 1.98788075e-01\n",
            " 5.52126930e-02 1.68801578e-01 1.98788075e-01 5.79471556e-02\n",
            " 1.67020183e-01 2.07191747e-01 1.30735346e-01 1.19278413e-01\n",
            " 2.07191747e-01 1.54982736e-01 9.10759054e-02 5.88543478e-02\n",
            " 2.58639860e-02 3.49155128e-02 5.88543478e-02 3.17512713e-02\n",
            " 2.90707762e-02 1.38035212e-01 4.41191660e-02 1.04937688e-01\n",
            " 1.38035212e-01 4.41191660e-02 1.04937688e-01 1.49810170e-02\n",
            " 4.49458827e-02 5.84917286e-02 1.49810170e-02 4.66690976e-02\n",
            " 6.01569314e-02 1.57264850e-03 2.18031301e-01 2.17465560e-01\n",
            " 1.57264850e-03 8.25367017e-02 8.12450628e-02 2.90071250e-04\n",
            " 2.02163737e-01 2.02290576e-01 2.90071250e-04 2.44324368e-01\n",
            " 2.44368003e-01 1.14408155e-01 7.03118649e-02 1.64663363e-01\n",
            " 1.14408155e-01 7.38088501e-02 1.67067937e-01 3.67570304e-02\n",
            " 2.90071250e-04 3.70249235e-02 3.67570304e-02 2.90071250e-04\n",
            " 3.70249235e-02 2.42853181e-01 1.22525102e-01 1.98242571e-01\n",
            " 2.55106141e-02 1.25230555e-02 1.33303535e-02 2.56284357e-02\n",
            " 2.49236752e-01 2.49998295e-01 2.07210932e-04 2.47527901e-01\n",
            " 2.47507249e-01 2.07210932e-04 2.47490665e-01 2.47469858e-01\n",
            " 2.47705937e-01 2.40049679e-01 4.91659893e-02 2.47705937e-01\n",
            " 2.41382774e-01 4.29137001e-02]\n",
            "max variance:  0.24999829514886301\n",
            "min variance:  0.0002072109318370962\n"
          ],
          "name": "stdout"
        }
      ]
    },
    {
      "cell_type": "code",
      "metadata": {
        "id": "JVTfmWyhwBru"
      },
      "source": [
        "from sklearn.model_selection import GridSearchCV\n",
        "vthreshold = [0.03] #προσαρμόζουμε τις τιμές μας στο variance που παρατηρήσαμε\n",
        "n_components_knn = [10,30,50,70,90]\n",
        "n_components_mlp = [70,90,110,130,150]\n",
        "\n",
        "#KNN Classifier\n",
        "k = [1,3,5,7,9,15,23,31] # η υπερπαράμετρος του ταξινομητή\n",
        "weights = ['distance']\n",
        "metric = ['manhattan', 'euclidean']\n",
        "\n",
        "#MLP Classifier\n",
        "hidden_layer_sizes = [(75,),(100,),(125,)]\n",
        "activation = ['logistic', 'tanh', 'relu']\n",
        "solver = ['lbfgs', 'sgd', 'adam']\n",
        "alpha = [0.00005,0.0001]\n",
        "learning_rate = ['adaptive']\n",
        "max_iter = [150,200]\n",
        "\n",
        "#GNB Classifier δεν θα βελτιστοποιήσουμε παραμέτρους"
      ],
      "execution_count": null,
      "outputs": []
    },
    {
      "cell_type": "code",
      "metadata": {
        "id": "-E7katTv3s5S"
      },
      "source": [
        "#KNN\n",
        "#pipe = Pipeline(steps=[('selector', selector), ('scaler', scaler), ('sampler', ros), ('pca', pca), ('kNN', clf)], memory = 'tmp')\n",
        "pipe9 = Pipeline(steps=[('pca', pca), ('kNN', clf)], memory = 'tmp') # το pipe που βγάζει τα καλύτερα αποτελέσματα στις δοκιμές\n",
        "estimator_micro_knn = GridSearchCV(pipe9, dict(pca__n_components=n_components_knn, kNN__n_neighbors=k, kNN__weights=weights, kNN__metric=metric), cv=5, scoring='f1_micro', n_jobs=-1)\n",
        "estimator_macro_knn = GridSearchCV(pipe9, dict(pca__n_components=n_components_knn, kNN__n_neighbors=k, kNN__weights=weights, kNN__metric=metric), cv=5, scoring='f1_macro', n_jobs=-1)\n",
        "\n",
        "#MLP\n",
        "pipe9 = Pipeline(steps=[('pca', pca), ('mlp', mlp)], memory = 'tmp') # το pipe που βγάζει τα καλύτερα αποτελέσματα στις δοκιμές\n",
        "estimator_micro_mlp = GridSearchCV(pipe9, dict(pca__n_components=n_components_mlp, mlp__hidden_layer_sizes=hidden_layer_sizes, mlp__activation=activation, mlp__solver=solver, mlp__learning_rate=learning_rate, mlp__alpha=alpha, mlp__max_iter=max_iter), cv=5, scoring='f1_micro', n_jobs=-1)\n",
        "estimator_macro_mlp = GridSearchCV(pipe9, dict(pca__n_components=n_components_mlp, mlp__hidden_layer_sizes=hidden_layer_sizes, mlp__activation=activation, mlp__solver=solver, mlp__learning_rate=learning_rate, mlp__alpha=alpha, mlp__max_iter=max_iter), cv=5, scoring='f1_macro', n_jobs=-1)\n",
        "\n",
        "#GNB\n",
        "#pipe = Pipeline(steps=[('selector', selector), ('scaler', scaler), ('sampler', ros), ('pca', pca), ('gnb', gnb)], memory = 'tmp')\n",
        "pipe4 = Pipeline(steps=[('selector', selector), ('scaler', scaler), ('sampler', ros), ('gnb', gnb)]) # το pipe που βγάζει τα καλύτερα αποτελέσματα στις δοκιμές\n",
        "estimator_micro_gnb = GridSearchCV(pipe4, dict(selector__threshold=vthreshold), cv=5, scoring='f1_micro', n_jobs=-1)\n",
        "estimator_macro_gnb = GridSearchCV(pipe4, dict(selector__threshold=vthreshold), cv=5, scoring='f1_macro', n_jobs=-1)\n",
        "\n",
        "#Αποθηκεύουμε όλα τα αποτελέσματα σε πίνακες για να απαντήσουμε στα επόμενα ερωτήματα \n",
        "estimators_micro = []\n",
        "estimators_macro = []\n",
        "\n",
        "estimators_micro.append(estimator_micro_knn)\n",
        "estimators_micro.append(estimator_micro_gnb)\n",
        "estimators_micro.append(estimator_micro_mlp)\n",
        "\n",
        "estimators_macro.append(estimator_macro_knn)\n",
        "estimators_macro.append(estimator_macro_gnb)\n",
        "estimators_macro.append(estimator_macro_mlp)\n"
      ],
      "execution_count": null,
      "outputs": []
    },
    {
      "cell_type": "markdown",
      "metadata": {
        "id": "53gvIe8KwZgD"
      },
      "source": [
        "2. *Για το τελικό fit του κάθε ταξινομητή στο σύνολο του training set και για το predict στο test set εκτυπώστε πίνακες με τους χρόνους εκτέλεσης.*"
      ]
    },
    {
      "cell_type": "code",
      "metadata": {
        "id": "FqBDBkzz33fa"
      },
      "source": [
        "import time\n",
        "train_time_macro =[]\n",
        "test_time_macro = []\n",
        "train_time_micro =[]\n",
        "test_time_micro = []\n",
        "f1_micro_scores = []\n",
        "f1_macro_scores = []\n",
        "micro_scores = []\n",
        "macro_scores = []\n",
        "cnf_matrix_macro = []\n",
        "cnf_matrix_micro = []\n",
        "\n",
        "for i in estimators_micro:    \n",
        "    # micro\n",
        "    start_time = time.time()\n",
        "    i.fit(train, train_labels)\n",
        "    train_time_micro.append(time.time() - start_time)\n",
        "    start_time = time.time()\n",
        "    preds_micro = i.predict(test)\n",
        "    test_time_micro.append(time.time() - start_time)\n",
        "    micro_scores.append(precision_recall_fscore_support(test_labels, preds_micro, average='micro'))\n",
        "    f1_micro_scores.append(precision_recall_fscore_support(test_labels, preds_micro, average='micro')[2])\n",
        "    cnf_matrix_micro.append(confusion_matrix(test_labels, preds_micro))\n",
        "\n",
        "for i in estimators_macro:\n",
        "    # macro\n",
        "    start_time = time.time()\n",
        "    i.fit(train, train_labels)\n",
        "    train_time_macro.append(time.time() - start_time)\n",
        "    start_time = time.time()\n",
        "    preds_macro = i.predict(test)\n",
        "    test_time_macro.append(time.time() - start_time)\n",
        "    macro_scores.append(precision_recall_fscore_support(test_labels, preds_macro, average='macro'))\n",
        "    f1_macro_scores.append(precision_recall_fscore_support(test_labels, preds_macro, average='macro')[2])\n",
        "    cnf_matrix_macro.append(confusion_matrix(test_labels, preds_macro))\n",
        "\n",
        "time_micro = []\n",
        "time_macro = []\n",
        "time_micro.append(train_time_micro)\n",
        "time_micro.append(test_time_micro)\n",
        "time_macro.append(train_time_macro)\n",
        "time_macro.append(test_time_macro)"
      ],
      "execution_count": null,
      "outputs": []
    },
    {
      "cell_type": "code",
      "metadata": {
        "id": "9iR60GGm1QO-",
        "outputId": "db7c5a2b-ff63-497e-9cdd-cf9ffef23aa3"
      },
      "source": [
        "print(\"Χρόνοι για fit στο train και predict στο test set, με average = micro\")\n",
        "pd.DataFrame(time_micro, index=[\"train fit\", \"test predict\"], columns = [\"KNN\", \"GNB\", \"MLP\"])"
      ],
      "execution_count": null,
      "outputs": [
        {
          "output_type": "stream",
          "text": [
            "Χρόνοι για fit στο train και predict στο test set, με average = micro\n"
          ],
          "name": "stdout"
        },
        {
          "output_type": "execute_result",
          "data": {
            "text/html": [
              "<div>\n",
              "<style scoped>\n",
              "    .dataframe tbody tr th:only-of-type {\n",
              "        vertical-align: middle;\n",
              "    }\n",
              "\n",
              "    .dataframe tbody tr th {\n",
              "        vertical-align: top;\n",
              "    }\n",
              "\n",
              "    .dataframe thead th {\n",
              "        text-align: right;\n",
              "    }\n",
              "</style>\n",
              "<table border=\"1\" class=\"dataframe\">\n",
              "  <thead>\n",
              "    <tr style=\"text-align: right;\">\n",
              "      <th></th>\n",
              "      <th>KNN</th>\n",
              "      <th>GNB</th>\n",
              "      <th>MLP</th>\n",
              "    </tr>\n",
              "  </thead>\n",
              "  <tbody>\n",
              "    <tr>\n",
              "      <th>train fit</th>\n",
              "      <td>410.095994</td>\n",
              "      <td>1.035501</td>\n",
              "      <td>16139.181712</td>\n",
              "    </tr>\n",
              "    <tr>\n",
              "      <th>test predict</th>\n",
              "      <td>17.700195</td>\n",
              "      <td>0.050970</td>\n",
              "      <td>0.064967</td>\n",
              "    </tr>\n",
              "  </tbody>\n",
              "</table>\n",
              "</div>"
            ],
            "text/plain": [
              "                     KNN       GNB           MLP\n",
              "train fit     410.095994  1.035501  16139.181712\n",
              "test predict   17.700195  0.050970      0.064967"
            ]
          },
          "metadata": {
            "tags": []
          },
          "execution_count": 44
        }
      ]
    },
    {
      "cell_type": "code",
      "metadata": {
        "id": "IAtSqC3rwZgE",
        "outputId": "f8ca1814-61fe-47d3-c5bd-ad40d6cad2a6"
      },
      "source": [
        "print(\"Χρόνοι για fit στο train και predict στο test set, με average = macro\")\n",
        "pd.DataFrame(time_macro, index=[\"train fit\", \"test predict\"], columns = [\"KNN\", \"GNB\", \"MLP\"])"
      ],
      "execution_count": null,
      "outputs": [
        {
          "output_type": "stream",
          "text": [
            "Χρόνοι για fit στο train και predict στο test set, με average = macro\n"
          ],
          "name": "stdout"
        },
        {
          "output_type": "execute_result",
          "data": {
            "text/html": [
              "<div>\n",
              "<style scoped>\n",
              "    .dataframe tbody tr th:only-of-type {\n",
              "        vertical-align: middle;\n",
              "    }\n",
              "\n",
              "    .dataframe tbody tr th {\n",
              "        vertical-align: top;\n",
              "    }\n",
              "\n",
              "    .dataframe thead th {\n",
              "        text-align: right;\n",
              "    }\n",
              "</style>\n",
              "<table border=\"1\" class=\"dataframe\">\n",
              "  <thead>\n",
              "    <tr style=\"text-align: right;\">\n",
              "      <th></th>\n",
              "      <th>KNN</th>\n",
              "      <th>GNB</th>\n",
              "      <th>MLP</th>\n",
              "    </tr>\n",
              "  </thead>\n",
              "  <tbody>\n",
              "    <tr>\n",
              "      <th>train fit</th>\n",
              "      <td>414.097994</td>\n",
              "      <td>4.832082</td>\n",
              "      <td>15735.740293</td>\n",
              "    </tr>\n",
              "    <tr>\n",
              "      <th>test predict</th>\n",
              "      <td>17.444957</td>\n",
              "      <td>0.050972</td>\n",
              "      <td>0.060966</td>\n",
              "    </tr>\n",
              "  </tbody>\n",
              "</table>\n",
              "</div>"
            ],
            "text/plain": [
              "                     KNN       GNB           MLP\n",
              "train fit     414.097994  4.832082  15735.740293\n",
              "test predict   17.444957  0.050972      0.060966"
            ]
          },
          "metadata": {
            "tags": []
          },
          "execution_count": 40
        }
      ]
    },
    {
      "cell_type": "code",
      "metadata": {
        "id": "bW8IWX6137cp",
        "outputId": "5891b6a8-dc60-4cd1-aad3-c9afdd49bbb0"
      },
      "source": [
        "print(\"macro\")\n",
        "print(estimator_macro_mlp.best_estimator_)\n",
        "print(estimator_macro_mlp.best_params_)\n",
        "\n",
        "print(\"micro\")\n",
        "print(estimator_micro_mlp.best_estimator_)\n",
        "print(estimator_micro_mlp.best_params_)\n",
        "\n",
        "print(\"macro\")\n",
        "print(estimator_macro_knn.best_estimator_)\n",
        "print(estimator_macro_knn.best_params_)\n",
        "\n",
        "print(\"micro\")\n",
        "print(estimator_micro_knn.best_estimator_)\n",
        "print(estimator_micro_knn.best_params_)"
      ],
      "execution_count": null,
      "outputs": [
        {
          "output_type": "stream",
          "text": [
            "macro\n",
            "Pipeline(memory='tmp',\n",
            "         steps=[('pca',\n",
            "                 PCA(copy=True, iterated_power='auto', n_components=130,\n",
            "                     random_state=None, svd_solver='auto', tol=0.0,\n",
            "                     whiten=False)),\n",
            "                ('mlp',\n",
            "                 MLPClassifier(activation='tanh', alpha=0.0001,\n",
            "                               batch_size='auto', beta_1=0.9, beta_2=0.999,\n",
            "                               early_stopping=False, epsilon=1e-08,\n",
            "                               hidden_layer_sizes=(100,),\n",
            "                               learning_rate='adaptive',\n",
            "                               learning_rate_init=0.001, max_fun=15000,\n",
            "                               max_iter=150, momentum=0.9, n_iter_no_change=10,\n",
            "                               nesterovs_momentum=True, power_t=0.5,\n",
            "                               random_state=None, shuffle=True, solver='adam',\n",
            "                               tol=0.0001, validation_fraction=0.1,\n",
            "                               verbose=False, warm_start=False))],\n",
            "         verbose=False)\n",
            "{'mlp__activation': 'tanh', 'mlp__alpha': 0.0001, 'mlp__hidden_layer_sizes': (100,), 'mlp__learning_rate': 'adaptive', 'mlp__max_iter': 150, 'mlp__solver': 'adam', 'pca__n_components': 130}\n",
            "micro\n",
            "Pipeline(memory='tmp',\n",
            "         steps=[('pca',\n",
            "                 PCA(copy=True, iterated_power='auto', n_components=150,\n",
            "                     random_state=None, svd_solver='auto', tol=0.0,\n",
            "                     whiten=False)),\n",
            "                ('mlp',\n",
            "                 MLPClassifier(activation='tanh', alpha=5e-05,\n",
            "                               batch_size='auto', beta_1=0.9, beta_2=0.999,\n",
            "                               early_stopping=False, epsilon=1e-08,\n",
            "                               hidden_layer_sizes=(125,),\n",
            "                               learning_rate='adaptive',\n",
            "                               learning_rate_init=0.001, max_fun=15000,\n",
            "                               max_iter=150, momentum=0.9, n_iter_no_change=10,\n",
            "                               nesterovs_momentum=True, power_t=0.5,\n",
            "                               random_state=None, shuffle=True, solver='adam',\n",
            "                               tol=0.0001, validation_fraction=0.1,\n",
            "                               verbose=False, warm_start=False))],\n",
            "         verbose=False)\n",
            "{'mlp__activation': 'tanh', 'mlp__alpha': 5e-05, 'mlp__hidden_layer_sizes': (125,), 'mlp__learning_rate': 'adaptive', 'mlp__max_iter': 150, 'mlp__solver': 'adam', 'pca__n_components': 150}\n",
            "macro\n",
            "Pipeline(memory='tmp',\n",
            "         steps=[('pca',\n",
            "                 PCA(copy=True, iterated_power='auto', n_components=90,\n",
            "                     random_state=None, svd_solver='auto', tol=0.0,\n",
            "                     whiten=False)),\n",
            "                ('kNN',\n",
            "                 KNeighborsClassifier(algorithm='auto', leaf_size=30,\n",
            "                                      metric='manhattan', metric_params=None,\n",
            "                                      n_jobs=None, n_neighbors=5, p=2,\n",
            "                                      weights='distance'))],\n",
            "         verbose=False)\n",
            "{'kNN__metric': 'manhattan', 'kNN__n_neighbors': 5, 'kNN__weights': 'distance', 'pca__n_components': 90}\n",
            "micro\n",
            "Pipeline(memory='tmp',\n",
            "         steps=[('pca',\n",
            "                 PCA(copy=True, iterated_power='auto', n_components=90,\n",
            "                     random_state=None, svd_solver='auto', tol=0.0,\n",
            "                     whiten=False)),\n",
            "                ('kNN',\n",
            "                 KNeighborsClassifier(algorithm='auto', leaf_size=30,\n",
            "                                      metric='manhattan', metric_params=None,\n",
            "                                      n_jobs=None, n_neighbors=5, p=2,\n",
            "                                      weights='distance'))],\n",
            "         verbose=False)\n",
            "{'kNN__metric': 'manhattan', 'kNN__n_neighbors': 5, 'kNN__weights': 'distance', 'pca__n_components': 90}\n"
          ],
          "name": "stdout"
        }
      ]
    },
    {
      "cell_type": "markdown",
      "metadata": {
        "id": "DN_4ob0CwZgH"
      },
      "source": [
        "3. *Για κάθε averaged metric, εκτυπώστε bar plot σύγκρισης με τις τιμές του συγκεκριμένου f1 για όλους τους classifiers.*"
      ]
    },
    {
      "cell_type": "code",
      "metadata": {
        "id": "NUIt-pLTwZgI",
        "outputId": "de925aa4-75c0-4f2a-cb71-eb4111707e80"
      },
      "source": [
        "import matplotlib.pyplot as plt\n",
        "\n",
        "# classifiers = list(spam_pred.keys())\n",
        "\n",
        "classifiers = [\"KNN\", \"GNB\", \"MLP\"]\n",
        "y = np.arange(len(classifiers))\n",
        "\n",
        "fig1, ax1 = plt.subplots()\n",
        "fig1.set_size_inches(8,4)\n",
        "\n",
        "#micro_avg_f1[-1] = f1_micro[2]\n",
        "plt.bar(y, f1_micro_scores, align='center')\n",
        "plt.xticks(y, classifiers, rotation = 60, fontsize = 12)\n",
        "plt.title(\"f1 score for micro average\", fontsize = 18)\n",
        "plt.xlabel(\"$Classifiers$\", fontsize = 16)\n",
        "plt.ylabel(\"$f1\\ score$\", fontsize = 16)\n",
        "plt.show()\n",
        "\n",
        "print(\"\\n\")\n",
        "\n",
        "#Bar for f1-macro average\n",
        "fig2, ax2 = plt.subplots()\n",
        "fig2.set_size_inches(8,4)\n",
        "\n",
        "#macro_avg_f1[-1] = f1_macro[2]\n",
        "plt.bar(y, f1_macro_scores, align='center')\n",
        "plt.xticks(y, classifiers, rotation = 60, fontsize = 12)\n",
        "plt.title(\"f1 score for macro average\", fontsize = 18)\n",
        "plt.xlabel(\"$Classifiers$\", fontsize = 16)\n",
        "plt.ylabel(\"$f1\\ score$\", fontsize = 16)\n",
        "plt.show()"
      ],
      "execution_count": null,
      "outputs": [
        {
          "output_type": "display_data",
          "data": {
            "image/png": "[encoded data removed]",
            "text/plain": [
              "<Figure size 576x288 with 1 Axes>"
            ]
          },
          "metadata": {
            "tags": [],
            "needs_background": "light"
          }
        },
        {
          "output_type": "stream",
          "text": [
            "\n",
            "\n"
          ],
          "name": "stdout"
        },
        {
          "output_type": "display_data",
          "data": {
            "image/png": "[encoded data removed]",
            "text/plain": [
              "<Figure size 576x288 with 1 Axes>"
            ]
          },
          "metadata": {
            "tags": [],
            "needs_background": "light"
          }
        }
      ]
    },
    {
      "cell_type": "markdown",
      "metadata": {
        "id": "SNwFodoVwZgJ"
      },
      "source": [
        "4. *Τυπώστε πίνακα με τη μεταβολή της επίδοσης των ταξινομητών πριν και μετά τη βελτιστοποίησή τους.*"
      ]
    },
    {
      "cell_type": "code",
      "metadata": {
        "id": "5UeOeCgrwZgJ",
        "outputId": "070163ad-ae3e-4776-a1ff-48c4d7e93816"
      },
      "source": [
        "print(\"Μεταβολή επίδοσης για f1 micro\")\n",
        "f1_progress_micro = [micro_avg_f1[5:], f1_micro_scores]\n",
        "pd.DataFrame(f1_progress_micro, index=[\"before\", \"after\"], columns = [\"KNN\", \"GNB\", \"MLP\"])"
      ],
      "execution_count": null,
      "outputs": [
        {
          "output_type": "stream",
          "text": [
            "Μεταβολή επίδοσης για f1 micro\n"
          ],
          "name": "stdout"
        },
        {
          "output_type": "execute_result",
          "data": {
            "text/html": [
              "<div>\n",
              "<style scoped>\n",
              "    .dataframe tbody tr th:only-of-type {\n",
              "        vertical-align: middle;\n",
              "    }\n",
              "\n",
              "    .dataframe tbody tr th {\n",
              "        vertical-align: top;\n",
              "    }\n",
              "\n",
              "    .dataframe thead th {\n",
              "        text-align: right;\n",
              "    }\n",
              "</style>\n",
              "<table border=\"1\" class=\"dataframe\">\n",
              "  <thead>\n",
              "    <tr style=\"text-align: right;\">\n",
              "      <th></th>\n",
              "      <th>KNN</th>\n",
              "      <th>GNB</th>\n",
              "      <th>MLP</th>\n",
              "    </tr>\n",
              "  </thead>\n",
              "  <tbody>\n",
              "    <tr>\n",
              "      <th>before</th>\n",
              "      <td>0.948936</td>\n",
              "      <td>0.827950</td>\n",
              "      <td>0.960445</td>\n",
              "    </tr>\n",
              "    <tr>\n",
              "      <th>after</th>\n",
              "      <td>0.952031</td>\n",
              "      <td>0.866538</td>\n",
              "      <td>0.960928</td>\n",
              "    </tr>\n",
              "  </tbody>\n",
              "</table>\n",
              "</div>"
            ],
            "text/plain": [
              "             KNN       GNB       MLP\n",
              "before  0.948936  0.827950  0.960445\n",
              "after   0.952031  0.866538  0.960928"
            ]
          },
          "metadata": {
            "tags": []
          },
          "execution_count": 42
        }
      ]
    },
    {
      "cell_type": "code",
      "metadata": {
        "id": "y7fusObo1QPC",
        "outputId": "8d877c4e-da78-428d-a833-8f2e0f63a45b"
      },
      "source": [
        "print(\"Μεταβολή επίδοσης για f1 macro\")\n",
        "f1_progress_macro = [macro_avg_f1[5:], f1_macro_scores]\n",
        "pd.DataFrame(f1_progress_macro, index=[\"before\", \"after\"], columns = [\"KNN\", \"GNB\", \"MLP\"])"
      ],
      "execution_count": null,
      "outputs": [
        {
          "output_type": "stream",
          "text": [
            "Μεταβολή επίδοσης για f1 macro\n"
          ],
          "name": "stdout"
        },
        {
          "output_type": "execute_result",
          "data": {
            "text/html": [
              "<div>\n",
              "<style scoped>\n",
              "    .dataframe tbody tr th:only-of-type {\n",
              "        vertical-align: middle;\n",
              "    }\n",
              "\n",
              "    .dataframe tbody tr th {\n",
              "        vertical-align: top;\n",
              "    }\n",
              "\n",
              "    .dataframe thead th {\n",
              "        text-align: right;\n",
              "    }\n",
              "</style>\n",
              "<table border=\"1\" class=\"dataframe\">\n",
              "  <thead>\n",
              "    <tr style=\"text-align: right;\">\n",
              "      <th></th>\n",
              "      <th>KNN</th>\n",
              "      <th>GNB</th>\n",
              "      <th>MLP</th>\n",
              "    </tr>\n",
              "  </thead>\n",
              "  <tbody>\n",
              "    <tr>\n",
              "      <th>before</th>\n",
              "      <td>0.937507</td>\n",
              "      <td>0.768770</td>\n",
              "      <td>0.951498</td>\n",
              "    </tr>\n",
              "    <tr>\n",
              "      <th>after</th>\n",
              "      <td>0.941412</td>\n",
              "      <td>0.838655</td>\n",
              "      <td>0.952173</td>\n",
              "    </tr>\n",
              "  </tbody>\n",
              "</table>\n",
              "</div>"
            ],
            "text/plain": [
              "             KNN       GNB       MLP\n",
              "before  0.937507  0.768770  0.951498\n",
              "after   0.941412  0.838655  0.952173"
            ]
          },
          "metadata": {
            "tags": []
          },
          "execution_count": 43
        }
      ]
    },
    {
      "cell_type": "markdown",
      "metadata": {
        "id": "YTfQLbRNwZgK"
      },
      "source": [
        "5. *Σχολιάστε τα αποτελέσματα των plots και των τιμών precision, recall, f1 των πινάκων σύγχυσης, τη μεταβολή της απόδοσης και τους χρόνους εκτέλεσης.*<br>"
      ]
    },
    {
      "cell_type": "code",
      "metadata": {
        "id": "k6cbEo_e1QPC",
        "outputId": "746198c4-daf7-41d0-eb18-796cfdcccb12"
      },
      "source": [
        "classif = [\"KNN\", \"GNB\", \"MLP\"]\n",
        "j=0\n",
        "for i in cnf_matrix_micro:\n",
        "    print(\"Confusion matrix for f1 micro\", classif[j])\n",
        "    j+=1\n",
        "    print(i)\n",
        "j=0\n",
        "for i in cnf_matrix_macro:\n",
        "    print(\"Confusion matrix for f1 macro\", classif[j])\n",
        "    j+=1\n",
        "    print(i)"
      ],
      "execution_count": null,
      "outputs": [
        {
          "output_type": "stream",
          "text": [
            "Confusion matrix for f1 micro KNN\n",
            "[[7123  256]\n",
            " [ 240 2721]]\n",
            "Confusion matrix for f1 micro GNB\n",
            "[[6620  759]\n",
            " [ 621 2340]]\n",
            "Confusion matrix for f1 micro MLP\n",
            "[[7180  199]\n",
            " [ 205 2756]]\n",
            "Confusion matrix for f1 macro KNN\n",
            "[[7123  256]\n",
            " [ 240 2721]]\n",
            "Confusion matrix for f1 macro GNB\n",
            "[[6608  771]\n",
            " [ 614 2347]]\n",
            "Confusion matrix for f1 macro MLP\n",
            "[[7180  199]\n",
            " [ 205 2756]]\n"
          ],
          "name": "stdout"
        }
      ]
    },
    {
      "cell_type": "markdown",
      "metadata": {
        "id": "g_Eh4RSQ1QPC"
      },
      "source": [
        "Παρατηρούμε ότι αν και οι classifiers **Knn** και **MLP** παρατηρούν μια μικρή βελτίωση στις επιδόσεις τους (f1 macro και f1 micro) μετά τη βελτιστοποίηση των υπερπαραμέτρων, oi επιδόσεις του classifier **GNB**  έχουν βελτιωθεί κατα πολύ(5%-7%), μόνο με τη διαγραφή χαρακτηριστικών βάση της διακύμανσης τους και ενός βέλτιστου threshold. Επίσης παρατηρούμε από τους πίνακες σύγχισης ότι οι τιμές των διαγωνίων έχουν αυξηθεί κατά λίγο, και οι τιμές εκτός διαγωνίου έχουν μειωθεί, γεγονός που σημαίνει ότι έχουμε καλύτερες επιδόσεις recall και precision, με το φαινόμενο αυτό να είναι πιο αισθητό στον classifier **GNB**.\n",
        "\n",
        "Βλέπουμε ότι ο χρόνος εκπαίδευσης των 3 ταξινομητών είναι πολύ μεγαλύτερος από το χρόνο πρόβλεψης, γεγονός αναμενόμενο. Παρατηρούμε επίσης ότι οι classifiers **Knn** και **GNB** έχουν πολύ μικρότερο από τον χρόνο εκπαίδευσης από τον **MLP**. Αυτό οφείλεται στο ότι ο **MLP** χρειάζεται πολλή χρόνο για την εύρεση των βαρών προς τους κόμβους, λόγω των πολλών εποχών και των πολλών νευρώνων, σε αντίθεση με τους άλλους 2 ταξινομητές, οι οποίοι υπολογίζουν ο μεν **Knn** τους Κ πλησιέστερους κόμβους, και ο **GNB** την πιθανότητα να ανήκει στην κάθε κλάση. Επίσης, για τον classifier **Knn** τρέχουμε μόνο ένα pca, για τον classifier **GNB**  ένα selector ενώ για τον classifier **MLP** τρέχουμε selector και pca και βελτιστοποιούμε τις παραμέτρους hidden layer sizes, activation, solver, learning rate, alpha και max iter. Όσο για τον χρονο εκτίμησης των classifiers, βλέπουμε ότι οι **GNB** και **MLP** έχουν πολύ μικρότερο χρόνο από τον **Knn**, αφού ο **Knn** υπολογίζει κάθε φορά τους Κ κοντινότερους γείτονες του κάθε κόμβου που εξετάζει και απαντάει σε ποια ομάδα ανήκει ο τρέχων κόμβος.\n",
        "\n",
        "Με το πέρας της βελτιστοποίησης παραμέτρων και της εύρεσης της βέλτιστης αρχιτεκτονικής και στους 3 classifiers, παρατηρούμε ότι οι 2 (**Knn** και **MLP**) πετυχαίνουν επιδόσεις της τάξης του 95%, και ο **GNB** πέτυχε επιδόσεις της τάξης του 85%."
      ]
    }
  ]
}