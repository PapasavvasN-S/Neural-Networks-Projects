{
  "nbformat": 4,
  "nbformat_minor": 0,
  "metadata": {
    "colab": {
      "name": "MC25-S06.ipynb",
      "provenance": [],
      "collapsed_sections": []
    },
    "kernelspec": {
      "name": "python3",
      "display_name": "Python 3"
    }
  },
  "cells": [
    {
      "cell_type": "markdown",
      "metadata": {
        "id": "7Sm2wmlYVvta",
        "colab_type": "text"
      },
      "source": [
        "#<center>**Άσκηση 1. Επιβλεπόμενη Μάθηση: Ταξινόμηση. Μελέτη datasets του UCI Machine Learning Repository**</center>\n"
      ]
    },
    {
      "cell_type": "markdown",
      "metadata": {
        "id": "xns_DJsOVnjx",
        "colab_type": "text"
      },
      "source": [
        "###Α. Στοιχεία ομάδας MC25\n",
        "\n",
        "1.   Νεόφυτος Παπασάββας, ΑΜ: 03115702 \n",
        "2.   Ειρήνη Παπαδοπούλου, ΑΜ: 03115703\n",
        "\n",
        "\n"
      ]
    },
    {
      "cell_type": "markdown",
      "metadata": {
        "id": "V3AdcqABXEQK",
        "colab_type": "text"
      },
      "source": [
        "###Β. Εισαγωγή του dataset\n",
        "1. *Σύντομη παρουσίαση του dataset (τι περιγράφει).* <br>\n",
        "To dataset μας ονομάζεται **Credit Approval**. Περιέχει εφαρμογές πιστωτικών καρτών. Τα ονόματα των χαρακτηριστικών είναι συμβολικά για να εξασφαλιστεί η προστασία των προσωπικών δεδομένων. Γι' αυτό δεν ξέρουμε ακριβώς τι αντιπροσωπεύει το κάθε χαρακτηριστικό. Περιγράφει περιπτώσεις στις οποίες πιστώθηκε ή χρεώθηκε η κάθε κάρτα."
      ]
    },
    {
      "cell_type": "code",
      "metadata": {
        "id": "MPFR9zwWb65_",
        "colab_type": "code",
        "outputId": "84e07a38-99a2-42dc-b375-17e957069ff8",
        "colab": {
          "base_uri": "https://localhost:8080/",
          "height": 243
        }
      },
      "source": [
        "!pip install --upgrade pip\n",
        "!pip install --upgrade scikit-learn\n",
        "!pip install --upgrade pandas\n",
        "!pip install --upgrade numpy\n",
        "!pip install --upgrade scipy"
      ],
      "execution_count": 0,
      "outputs": [
        {
          "output_type": "stream",
          "text": [
            "Requirement already up-to-date: pip in /usr/local/lib/python3.6/dist-packages (19.3.1)\n",
            "Requirement already up-to-date: scikit-learn in /usr/local/lib/python3.6/dist-packages (0.22)\n",
            "Requirement already satisfied, skipping upgrade: scipy>=0.17.0 in /usr/local/lib/python3.6/dist-packages (from scikit-learn) (1.4.0)\n",
            "Requirement already satisfied, skipping upgrade: joblib>=0.11 in /usr/local/lib/python3.6/dist-packages (from scikit-learn) (0.14.1)\n",
            "Requirement already satisfied, skipping upgrade: numpy>=1.11.0 in /usr/local/lib/python3.6/dist-packages (from scikit-learn) (1.17.4)\n",
            "Requirement already up-to-date: pandas in /usr/local/lib/python3.6/dist-packages (0.25.3)\n",
            "Requirement already satisfied, skipping upgrade: python-dateutil>=2.6.1 in /usr/local/lib/python3.6/dist-packages (from pandas) (2.6.1)\n",
            "Requirement already satisfied, skipping upgrade: numpy>=1.13.3 in /usr/local/lib/python3.6/dist-packages (from pandas) (1.17.4)\n",
            "Requirement already satisfied, skipping upgrade: pytz>=2017.2 in /usr/local/lib/python3.6/dist-packages (from pandas) (2018.9)\n",
            "Requirement already satisfied, skipping upgrade: six>=1.5 in /usr/local/lib/python3.6/dist-packages (from python-dateutil>=2.6.1->pandas) (1.12.0)\n",
            "Requirement already up-to-date: numpy in /usr/local/lib/python3.6/dist-packages (1.17.4)\n",
            "Requirement already up-to-date: scipy in /usr/local/lib/python3.6/dist-packages (1.4.0)\n",
            "Requirement already satisfied, skipping upgrade: numpy>=1.13.3 in /usr/local/lib/python3.6/dist-packages (from scipy) (1.17.4)\n"
          ],
          "name": "stdout"
        }
      ]
    },
    {
      "cell_type": "code",
      "metadata": {
        "id": "SjwiFPBpb8Ul",
        "colab_type": "code",
        "colab": {}
      },
      "source": [
        "import numpy as np\n",
        "import pandas as pd\n",
        "from google.colab import files\n",
        "#uploaded = files.upload()\n",
        "\n",
        "#for fn in uploaded.keys():\n",
        "#  print('User uploaded file \"{name}\" with length {length} bytes'.format(name=fn, length=len(uploaded[fn])))\n",
        "\n",
        "df = pd.read_csv(\"crx.data\", na_values=[\"?\"], header=None) "
      ],
      "execution_count": 0,
      "outputs": []
    },
    {
      "cell_type": "code",
      "metadata": {
        "id": "72u1yLhjc02J",
        "colab_type": "code",
        "outputId": "35dc2605-6a83-48b6-d2cb-03693c5bf520",
        "colab": {
          "base_uri": "https://localhost:8080/",
          "height": 433
        }
      },
      "source": [
        "np_data = df.values\n",
        "data = np_data[:,0:-1]  # Ξεχωρίζουμε τα data από τις ετικέτες\n",
        "dataTargets = np_data[:,-1] # Οι ετικέτες\n",
        "print(df.head())\n",
        "print(df.shape)\n",
        "print(df.dtypes) "
      ],
      "execution_count": 0,
      "outputs": [
        {
          "output_type": "stream",
          "text": [
            "  0      1      2  3  4  5  6     7  8  9   10 11 12     13   14 15\n",
            "0  b  30.83  0.000  u  g  w  v  1.25  t  t   1  f  g  202.0    0  +\n",
            "1  a  58.67  4.460  u  g  q  h  3.04  t  t   6  f  g   43.0  560  +\n",
            "2  a  24.50  0.500  u  g  q  h  1.50  t  f   0  f  g  280.0  824  +\n",
            "3  b  27.83  1.540  u  g  w  v  3.75  t  t   5  t  g  100.0    3  +\n",
            "4  b  20.17  5.625  u  g  w  v  1.71  t  f   0  f  s  120.0    0  +\n",
            "(690, 16)\n",
            "0      object\n",
            "1     float64\n",
            "2     float64\n",
            "3      object\n",
            "4      object\n",
            "5      object\n",
            "6      object\n",
            "7     float64\n",
            "8      object\n",
            "9      object\n",
            "10      int64\n",
            "11     object\n",
            "12     object\n",
            "13    float64\n",
            "14      int64\n",
            "15     object\n",
            "dtype: object\n"
          ],
          "name": "stdout"
        }
      ]
    },
    {
      "cell_type": "markdown",
      "metadata": {
        "id": "K5BZ4qGpdSqH",
        "colab_type": "text"
      },
      "source": [
        "2. *Αριθμός δειγμάτων και χαρακτηριστικών, είδος χαρακτηριστικών. Υπάρχουν μη διατεταγμένα χαρακτηριστικά και ποια είναι αυτά;* <br>\n",
        "Ο αριθμός δειγμάτων είναι 690, τα χαρακτηριστικά τους είναι 15 και το είδος τους είναι **object**, **float64** και **int64**. Πολλά από τα χαρακτηριστικά ενώ είναι κυρίως πχ float64 παίρνουν το είδος object γιατί μερικές τιμές δεν υπάρχουν και στη θέση τους μπαίνει \"?\". Η τελευταία στήλη είναι οι ετικέτες. Δεν υπάρχουν μη διατεταγμένα χαρακτηριστικά."
      ]
    },
    {
      "cell_type": "markdown",
      "metadata": {
        "id": "GGr-KFGElseO",
        "colab_type": "text"
      },
      "source": [
        "3. *Υπάρχουν επικεφαλίδες; Αρίθμηση γραμμών;* <br>\n",
        "Τυπώνοντας τις πρώτες 5 γραμμές του αρχείου, παρατηρούμε ότι δεν υπάρχουν ούτε επικεφαλίδες, ούτε αρίθμηση γραμμών.\n"
      ]
    },
    {
      "cell_type": "code",
      "metadata": {
        "id": "63jmZxYXmIdt",
        "colab_type": "code",
        "outputId": "11567da2-0ada-42c9-f5ca-c291ebaa1b48",
        "colab": {
          "base_uri": "https://localhost:8080/",
          "height": 104
        }
      },
      "source": [
        "print(df.values[0:5,:])"
      ],
      "execution_count": 0,
      "outputs": [
        {
          "output_type": "stream",
          "text": [
            "[['b' 30.83 0.0 'u' 'g' 'w' 'v' 1.25 't' 't' 1 'f' 'g' 202.0 0 '+']\n",
            " ['a' 58.67 4.46 'u' 'g' 'q' 'h' 3.04 't' 't' 6 'f' 'g' 43.0 560 '+']\n",
            " ['a' 24.5 0.5 'u' 'g' 'q' 'h' 1.5 't' 'f' 0 'f' 'g' 280.0 824 '+']\n",
            " ['b' 27.83 1.54 'u' 'g' 'w' 'v' 3.75 't' 't' 5 't' 'g' 100.0 3 '+']\n",
            " ['b' 20.17 5.625 'u' 'g' 'w' 'v' 1.71 't' 'f' 0 'f' 's' 120.0 0 '+']]\n"
          ],
          "name": "stdout"
        }
      ]
    },
    {
      "cell_type": "markdown",
      "metadata": {
        "id": "YkHldapEpO3H",
        "colab_type": "text"
      },
      "source": [
        "4. *Ποιες είναι οι ετικέτες των κλάσεων και σε ποια κολόνα βρίσκονται;* <br>\n",
        "Οι ετικέτες είναι \"+\" και \"-\", βρίσκονται στην τελευταία στήλη και υπάρχουν για να ξεχωρίζουμε κατα πόσο δόθηκε η δεν δόθηκε πίστωση."
      ]
    },
    {
      "cell_type": "code",
      "metadata": {
        "id": "M7InNBu66m_M",
        "colab_type": "code",
        "outputId": "f741d0a1-e193-419e-f71e-99c14047142a",
        "colab": {
          "base_uri": "https://localhost:8080/",
          "height": 35
        }
      },
      "source": [
        "# Υπολογίζουμε τον αριθμό δειγμάτων με απουσιάζουσες τιμές\n",
        "cat crx.data | grep \"?\" |  wc -l"
      ],
      "execution_count": 0,
      "outputs": [
        {
          "output_type": "stream",
          "text": [
            "37\n"
          ],
          "name": "stdout"
        }
      ]
    },
    {
      "cell_type": "code",
      "metadata": {
        "id": "cvlwB5546w5S",
        "colab_type": "code",
        "outputId": "99661fd7-a4f6-461e-ca91-d3ade3ceb3d7",
        "colab": {
          "base_uri": "https://localhost:8080/",
          "height": 35
        }
      },
      "source": [
        "print(\"Ποσοστό δειγμάτων(γραμμών) με απουσιάζουσες τιμές:\", 37/len(data)*100 , \"%\")"
      ],
      "execution_count": 0,
      "outputs": [
        {
          "output_type": "stream",
          "text": [
            "Ποσοστό δειγμάτων(γραμμών) με απουσιάζουσες τιμές: 5.36231884057971 %\n"
          ],
          "name": "stdout"
        }
      ]
    },
    {
      "cell_type": "markdown",
      "metadata": {
        "id": "kl_YsFhDqH8C",
        "colab_type": "text"
      },
      "source": [
        "5. *Χρειάστηκε να κάνετε μετατροπές στα αρχεία text και ποιες?* <br>\n",
        "Δεν υπάρχει αρίθμηση στηλών και γραμμών, τα δεδομένα και τα χαρακτηριστικά τους είναι στις σωστές θέσεις άρα δε χρειάζεται να κάνουμε μετατροπές στο αρχείο.<br>\n",
        "6. *Υπάρχουν απουσιάζουσες τιμές; Πόσα είναι τα δείγματα με απουσιάζουσες τιμές και ποιο το ποσοστό τους επί του συνόλου;*<br>\n",
        "Ναι υπάρχουν, το ποσοστό φαίνεται πιο πάνω.\n",
        "7. *Ποιος είναι ο αριθμός των κλάσεων και τα ποσοστά δειγμάτων τους επί του συνόλου; Αν θεωρήσουμε ότι ένα dataset είναι μη ισορροπημένο αν μια οποιαδήποτε κλάση είναι 1.5 φορά πιο συχνή από κάποια άλλη (60%-40% σε binary datasets) εκτιμήστε την ισορροπία του dataset.* <br>"
      ]
    },
    {
      "cell_type": "code",
      "metadata": {
        "id": "DIoHEhYwzgNV",
        "colab_type": "code",
        "outputId": "079f450b-99d8-4d36-82e9-5a64d0c0a692",
        "colab": {
          "base_uri": "https://localhost:8080/",
          "height": 121
        }
      },
      "source": [
        "frequencies = pd.value_counts(dataTargets)  # Μετράμε την συχνότητα εμφάνισης των δειγμάτων της κάθε κλάσης \n",
        "print(\"Συχνότητα εμφάνισης των δειγμάτων της κάθε κλάσης:\")\n",
        "print(frequencies)\n",
        "print(\"Ποσοστό '-':\", frequencies[0]/len(dataTargets)*100, '%')\n",
        "print(\"Ποσοστό '+':\", frequencies[1]/len(dataTargets)*100, '%')"
      ],
      "execution_count": 0,
      "outputs": [
        {
          "output_type": "stream",
          "text": [
            "Συχνότητα εμφάνισης των δειγμάτων της κάθε κλάσης:\n",
            "-    383\n",
            "+    307\n",
            "dtype: int64\n",
            "Ποσοστό '-': 55.507246376811594 %\n",
            "Ποσοστό '+': 44.492753623188406 %\n"
          ],
          "name": "stdout"
        }
      ]
    },
    {
      "cell_type": "markdown",
      "metadata": {
        "id": "pCzpZ3z_3tXT",
        "colab_type": "text"
      },
      "source": [
        "\n",
        "<font size=\"2\">Παρατηρούμε ότι έχουμε δύο κλάσεις την **'+'** (πίστωση) και την **'-'**(χρέωση). Τα ποσοστά φαίνονται πιο πάνω και το dataset είναι ισορροπημένο.</font>\n",
        "\n",
        "\n",
        "\n"
      ]
    },
    {
      "cell_type": "markdown",
      "metadata": {
        "id": "tWhGMm9_6urY",
        "colab_type": "text"
      },
      "source": [
        "8. *Διαχωρίστε σε train και test set. Εάν υπάρχουν απουσιάζουσες τιμές και μη διατεταγμένα χαρακτηριστικά διαχειριστείτε τα και αιτιολογήστε τις επιλογές σας.* <br>\n",
        "Παρατηρούμε πιο πάνω ότι το ποσοστό των δειγμάτων με απουσιάζουσες τιμές είναι αρκετά μικρό (~5%) άρα μπορούμε να διαγράψουμε τα δείγματα που έχουν απουσιάζουσες τιμές. Δεν υπάρχουν μη διατεταγμένα χαρακτηριστικά.\n"
      ]
    },
    {
      "cell_type": "code",
      "metadata": {
        "id": "tKE3mmlapj9U",
        "colab_type": "code",
        "colab": {}
      },
      "source": [
        "#Διαγράφουμε τα δείγματα με απουσιάζουσες τιμές και δημιουργούμε νέο αρχείο χωρίς αυτά (newcrx.data)\n",
        "cat crx.data | grep -v \"?\" > newcrx.data"
      ],
      "execution_count": 0,
      "outputs": []
    },
    {
      "cell_type": "code",
      "metadata": {
        "id": "TR3niNNt3ne8",
        "colab_type": "code",
        "outputId": "10690830-cc72-4ee0-cca0-263e3b182c24",
        "colab": {
          "base_uri": "https://localhost:8080/",
          "height": 260
        }
      },
      "source": [
        "from sklearn.model_selection import train_test_split\n",
        "from sklearn.impute import SimpleImputer\n",
        "\n",
        "df = pd.read_csv(\"newcrx.data\", header=None)\n",
        "np_data = df.values\n",
        "data = np_data[:,0:-1]  # Ξεχωρίζουμε τα data από τις ετικέτες\n",
        "\n",
        "# μετατρέπουμε σε dataframe\n",
        "df2 = pd.DataFrame(data)\n",
        "# οι κολόνες 0,3,4,5,6,8,9,11,12 έχουν κατηγορικές μεταβλητές. \n",
        "# Με την \"get_dummies\" κάνουμε τη μετατροπή σε binary χαρακτηριστικά που περιγράψαμε\n",
        "dummies = pd.get_dummies(df2, columns=[0,3,4,5,6,8,9,11,12])\n",
        "print(dummies)\n",
        "# Μετατρέπουμε σε αριθμητικές τιμές (pd.to_numeric) και σε numpy array (.values)\n",
        "data = dummies.apply(pd.to_numeric).values \n",
        "\n",
        "labels_df = df.iloc[:, [-1]]\n",
        "mapping = {'-': 0, '+': 1}\n",
        "labels_df = labels_df.replace(mapping)\n",
        "# μετατρέπουμε το dataframe σε μονοδιάστατο array\n",
        "data_labels = labels_df.values.flatten()\n",
        "train, test, train_labels, test_labels = train_test_split(data, data_labels, test_size=0.20)"
      ],
      "execution_count": 0,
      "outputs": [
        {
          "output_type": "stream",
          "text": [
            "         1       2     7 10   13   14  ...  9_t  11_f  11_t  12_g  12_p  12_s\n",
            "0    30.83       0  1.25  1  202    0  ...    1     1     0     1     0     0\n",
            "1    58.67    4.46  3.04  6   43  560  ...    1     1     0     1     0     0\n",
            "2     24.5     0.5   1.5  0  280  824  ...    0     1     0     1     0     0\n",
            "3    27.83    1.54  3.75  5  100    3  ...    1     0     1     1     0     0\n",
            "4    20.17   5.625  1.71  0  120    0  ...    0     1     0     0     0     1\n",
            "..     ...     ...   ... ..  ...  ...  ...  ...   ...   ...   ...   ...   ...\n",
            "648  21.08  10.085  1.25  0  260    0  ...    0     1     0     1     0     0\n",
            "649  22.67    0.75     2  2  200  394  ...    1     0     1     1     0     0\n",
            "650  25.25    13.5     2  1  200    1  ...    1     0     1     1     0     0\n",
            "651  17.92   0.205  0.04  0  280  750  ...    0     1     0     1     0     0\n",
            "652     35   3.375  8.29  0    0    0  ...    0     0     1     1     0     0\n",
            "\n",
            "[653 rows x 46 columns]\n"
          ],
          "name": "stdout"
        }
      ]
    },
    {
      "cell_type": "markdown",
      "metadata": {
        "id": "xY0sRSYmdovr",
        "colab_type": "text"
      },
      "source": [
        "##Γ. Baseline classification\n",
        "1. *Εκπαιδεύστε στο train τους classifiers με default τιμές (απλή αρχικοποίηση). Κάντε εκτίμηση στο test set (μαζί με τους dummy) και τυπώστε για κάθε estimator: confusion matrix, f1-micro average και f1-macro average.*\n",
        "\n"
      ]
    },
    {
      "cell_type": "code",
      "metadata": {
        "id": "fTh7lFO0d_f4",
        "colab_type": "code",
        "colab": {}
      },
      "source": [
        "#Dummy Classifiers\n",
        "\n",
        "from sklearn.dummy import DummyClassifier\n",
        "\n",
        "#Δημιουργία - ορισμός των dummy classifiers\n",
        "dc_uniform = DummyClassifier(strategy=\"uniform\")\n",
        "dc_constant_0 = DummyClassifier(strategy=\"constant\", constant=0)  \n",
        "dc_constant_1 = DummyClassifier(strategy=\"constant\", constant=1)  \n",
        "dc_most_frequent = DummyClassifier(strategy=\"most_frequent\")\n",
        "dc_stratified = DummyClassifier(strategy=\"stratified\")\n",
        "\n",
        "pred = {} #Εδώ θα αποθηκεύσουμε όλες τις εκτιμήσεις των classifiers\n",
        "\n",
        "#με τη μέθοδο fit \"εκπαιδεύουμε\" τον ταξινομητή στο σύνολο εκπαίδευσης (τα χαρακτηριστικά και τις ετικέτες τους)\n",
        "model = dc_uniform.fit(train, train_labels)\n",
        "pred['uniform (random)'] = dc_uniform.predict(test)\n",
        "model = dc_constant_0.fit(train, train_labels)\n",
        "pred['constant 0'] = dc_constant_0.predict(test)\n",
        "model = dc_constant_1.fit(train, train_labels)\n",
        "pred['constant 1'] = dc_constant_1.predict(test)\n",
        "model = dc_most_frequent.fit(train, train_labels)\n",
        "pred['most frequent label'] = dc_most_frequent.predict(test)\n",
        "model = dc_stratified.fit(train, train_labels)\n",
        "pred['stratified'] = dc_stratified.predict(test)"
      ],
      "execution_count": 0,
      "outputs": []
    },
    {
      "cell_type": "code",
      "metadata": {
        "id": "plBX6BoVmDIc",
        "colab_type": "code",
        "colab": {}
      },
      "source": [
        "#KNN Classifier\n",
        "\n",
        "from sklearn.neighbors import KNeighborsClassifier\n",
        "\n",
        "knn = KNeighborsClassifier()\n",
        "knn.fit(train, train_labels)\n",
        "#Αποθηκεύουμε την τιμή της στον πίνακά μας με τα αποτελέσματα από τα άλλα classifiers\n",
        "pred['knn'] = knn.predict(test)"
      ],
      "execution_count": 0,
      "outputs": []
    },
    {
      "cell_type": "code",
      "metadata": {
        "id": "2avyL7VQuncu",
        "colab_type": "code",
        "outputId": "97d596d5-850b-4121-8954-96561098f6f4",
        "colab": {
          "base_uri": "https://localhost:8080/",
          "height": 696
        }
      },
      "source": [
        "#Yπολογισμός των f1 micro και macro average, confusion matrix \n",
        "from sklearn.metrics import precision_recall_fscore_support, classification_report, confusion_matrix\n",
        "\n",
        "classification_scores_micro = []\n",
        "classification_scores_macro = []\n",
        "classification_rep_micro =[]\n",
        "classification_rep_macro =[]\n",
        "micro_avg_f1 = []\n",
        "macro_avg_f1 = [] \n",
        "classifiers = []\n",
        "for classifier, pred in pred.items():\n",
        "    # υπολογισμός του confusion matrix για κάθε estimator\n",
        "    cnf_matrix = confusion_matrix(test_labels, pred)\n",
        "    print(\"Confusion Matrix\",classifier, \"\\n\",cnf_matrix)\n",
        "    # εκτυπώνουμε τa precision, recall και F1 λαμβάνοντας υπόψη συνολικά (αθροίζοντας εκτός κλάσεων (globaly)) τα δείγματα (average = micro).\n",
        "    avg = precision_recall_fscore_support(test_labels, pred, average='micro', zero_division= 0)\n",
        "    micro_avg_f1.append(avg[2])\n",
        "    classification_scores_micro.append(avg)\n",
        "    classification_rep_micro.append(classification_report(test_labels, pred))\n",
        "    print(classifier, \" - micro: \", avg[2])\n",
        "    # εκτυπώνουμε το μέσο όρο των precision, recall και F1 θεωρώντας ότι οι κλάσεις έχουν το ίδιο βάρος (average = macro)\n",
        "    avg = precision_recall_fscore_support(test_labels, pred, average='macro', zero_division= 0)\n",
        "    macro_avg_f1.append(avg[2])\n",
        "    classification_scores_macro.append(avg)\n",
        "    print(classifier, \" - macro: \", avg[2], \"\\n\")\n",
        "    classifiers.append(classifier)\n",
        "    classification_rep_macro.append(classification_report(test_labels, pred))\n",
        "  \n",
        "#Αποθηκεύω τις αρχικές αποδόσεις γιατί θα τις χρειαστούμε αργότερα\n",
        "f1_first_micro = micro_avg_f1[-1]\n",
        "f1_first_macro = macro_avg_f1[-1]"
      ],
      "execution_count": 0,
      "outputs": [
        {
          "output_type": "stream",
          "text": [
            "Confusion Matrix uniform (random) \n",
            " [[35 36]\n",
            " [27 33]]\n",
            "uniform (random)  - micro:  0.5190839694656488\n",
            "uniform (random)  - macro:  0.5189718482252141 \n",
            "\n",
            "Confusion Matrix constant 0 \n",
            " [[71  0]\n",
            " [60  0]]\n",
            "constant 0  - micro:  0.5419847328244275\n",
            "constant 0  - macro:  0.35148514851485146 \n",
            "\n",
            "Confusion Matrix constant 1 \n",
            " [[ 0 71]\n",
            " [ 0 60]]\n",
            "constant 1  - micro:  0.4580152671755725\n",
            "constant 1  - macro:  0.31413612565445026 \n",
            "\n",
            "Confusion Matrix most frequent label \n",
            " [[71  0]\n",
            " [60  0]]\n",
            "most frequent label  - micro:  0.5419847328244275\n",
            "most frequent label  - macro:  0.35148514851485146 \n",
            "\n",
            "Confusion Matrix stratified \n",
            " [[41 30]\n",
            " [39 21]]\n",
            "stratified  - micro:  0.4732824427480916\n",
            "stratified  - macro:  0.4607123679971362 \n",
            "\n",
            "Confusion Matrix knn \n",
            " [[57 14]\n",
            " [25 35]]\n",
            "knn  - micro:  0.7022900763358778\n",
            "knn  - macro:  0.6936499370390359 \n",
            "\n"
          ],
          "name": "stdout"
        },
        {
          "output_type": "stream",
          "text": [
            "/usr/local/lib/python3.6/dist-packages/sklearn/metrics/_classification.py:1268: UndefinedMetricWarning: Precision and F-score are ill-defined and being set to 0.0 in labels with no predicted samples. Use `zero_division` parameter to control this behavior.\n",
            "  _warn_prf(average, modifier, msg_start, len(result))\n"
          ],
          "name": "stderr"
        }
      ]
    },
    {
      "cell_type": "markdown",
      "metadata": {
        "id": "pGQAYqfhTZap",
        "colab_type": "text"
      },
      "source": [
        "2. Για κάθε averaged metric, εκτυπώστε bar plot συγκρισης με τις τιμές του συγκεκριμένου f1 για όλους τους classifiers.\n"
      ]
    },
    {
      "cell_type": "code",
      "metadata": {
        "id": "V5ksAi7OyFx1",
        "colab_type": "code",
        "outputId": "14e1eaec-97a2-4bec-f9f2-eea5328d1bbf",
        "colab": {
          "base_uri": "https://localhost:8080/",
          "height": 828
        }
      },
      "source": [
        "import matplotlib.pyplot as plt\n",
        "\n",
        "# classifiers = list(spam_pred.keys())\n",
        "\n",
        "y = np.arange(len(classifiers))\n",
        "\n",
        "fig1, ax1 = plt.subplots()\n",
        "fig1.set_size_inches(8,4)\n",
        "\n",
        "plt.bar(y, micro_avg_f1, align='center')\n",
        "plt.xticks(y, classifiers, rotation = 60, fontsize = 12)\n",
        "plt.title(\"f1 score for micro average\", fontsize = 18)\n",
        "plt.xlabel(\"$Classifiers$\", fontsize = 16)\n",
        "plt.ylabel(\"$f1\\ score$\", fontsize = 16)\n",
        "plt.show()\n",
        "\n",
        "print(\"\\n\")\n",
        "\n",
        "#Bar for f1-macro average\n",
        "fig2, ax2 = plt.subplots()\n",
        "fig2.set_size_inches(8,4)\n",
        "\n",
        "plt.bar(y, macro_avg_f1, align='center')\n",
        "plt.xticks(y, classifiers, rotation = 60, fontsize = 12)\n",
        "plt.title(\"f1 score for macro average\", fontsize = 18)\n",
        "plt.xlabel(\"$Classifiers$\", fontsize = 16)\n",
        "plt.ylabel(\"$f1\\ score$\", fontsize = 16)\n",
        "plt.show()"
      ],
      "execution_count": 0,
      "outputs": [
        {
          "output_type": "display_data",
          "data": {
            "image/png": "[encoded data removed]",
            "text/plain": [
              "<Figure size 576x288 with 1 Axes>"
            ]
          },
          "metadata": {
            "tags": []
          }
        },
        {
          "output_type": "stream",
          "text": [
            "\n",
            "\n"
          ],
          "name": "stdout"
        },
        {
          "output_type": "display_data",
          "data": {
            "image/png": "[encoded data removed]",
            "text/plain": [
              "<Figure size 576x288 with 1 Axes>"
            ]
          },
          "metadata": {
            "tags": []
          }
        }
      ]
    },
    {
      "cell_type": "markdown",
      "metadata": {
        "id": "jRXtOAbQTx6g",
        "colab_type": "text"
      },
      "source": [
        "3. Σχολιάστε τα αποτελέσματα των plots και των τιμών precision, recall, f1 των πινάκων σύγχυσης. <br> \n",
        "Αρχικά επισημαίνουμε ότι κάθε γραμμή ενός confusion matrix αντιστοιχίζεται σε μία κατηγορία ετικετών ('+' και '-'). Τα στοιχεία εκτός διαγωνίου σε κάθε γραμμή είναι **false negative**, δηλαδή δεν κατηγοριοποιήθηκαν στην κατηγορία της γραμμής ενώ ανήκαν. Άρα με παρατήρηση των γραμμών εξετάζω το recall. Αντίστοιχα, κάθε στήλη ενός confusion matrix αντιστοιχίζεται επίσης σε μία κατηγορία ετικετών. Τα στοιχεία εκτός διαγωνίου σε κάθε στήλη είναι **false positive**, δηλαδή κατηγοριοποιήθηκαν στην κατηγορία της στήλης ενώ δεν ανήκαν. Άρα με παρατήρηση των στηλών εξετάζω το precision.<br>\n",
        "\n",
        "* **uniform (random)**: Στον πίνακα υπάρχουν μη μηδενικές (αλλά και υψηλές) \n",
        "τιμές στα κελιά εκτός διαγωνίου κάτι που μας εκφράζει κακό recall και precision. Ο λόγος είναι καθαρά η σχεδίαση του ταξινομητή ο οποίος ταξινομεί τυχαία, με ομοιόμορφη πιθανότητα τα δείγματα του test set σε κλάσεις. <br>\n",
        "* **constant_x**: Σε κάθε πίνακα constant_x όλα τα δείγματα έχουν ταξινομηθεί στην κλάση x και γι' αυτό οι μόνες μη μηδενικες τιμές στον πίνακα είναι η στήλη x. Αυτό μας δίνει κακό precision και recall σε όλες τις κλάσεις εκτός της κλάσης x όπου το precision αναμένεται πολύ μικρό αλλά το recall αναμένεται μέγιστο, δηλαδή 1. Π.χ., στον πίνακα του contant_1 η γραμμή 1 έχει μηδενικά όλα τα στοιχεία εκτός διαγωνίου (βέλτιστο recall), ενώ η στήλη 1 έχει παντού μη μηδενικά στοιχεία (κακό precision).<br>\n",
        "* **most frequent label**: Ο ταξινομητής αυτός είναι ίδιος με τον  constant_x, όπου x είναι η πιο συχνά εμφανιζόμενη κλάση στο train set. Επομένως ίσχυουν τα ίδια σχόλια με πριν. Μπορούμε να πούμε ότι αυτός ο ταξινομητής είναι ό,τι καλύτερο μπορεί να πετύχει ένας constant ταξινομητής.<br>\n",
        "* **stratified** :Στον πίνακα υπάρχουν μη μηδενικές (αλλά και υψηλές) τιμές στα κελιά εκτός διαγωνίου κάτι που μας εκφράζει κακό recall και precision. Ο λόγος είναι καθαρά η σχεδίαση του ταξινομητή ο οποίος ταξινομεί με βάση τη συχνότητα εμφάνισης των δειγμάτων στις κλάσεις στο train set, δηλαδή περίπου 54-46.<br>\n",
        "* **knn** :Συνολικά είναι καλύτερος σε όλα σε σχέση με όλους τους προηγούμενους. H ταξινόμηση είναι ικανοποιητική, αν λάβουμε και υπόψιν ότι η υπερπαράμετρος k έχει επιλεγεί τυχαία και δεν έχει υπολογισθεί η βέλτιστη. Η σχεδίαση του knn δίνει γενικά καλά αποτελέσματα λόγω του ότι βασίζεται σε μία πιο αλγοριθμική προσέγγιση και καθορίζεται από τη συμπεριφορά των γειτονικών δειγμάτων. <br> "
      ]
    },
    {
      "cell_type": "markdown",
      "metadata": {
        "id": "auUCyKYAU6W9",
        "colab_type": "text"
      },
      "source": [
        "###Δ. Βελτιστοποίηση ταξινομητών\n",
        "\n",
        "\n",
        "1. *Για κάθε ταξινομητή βελτιστοποιήστε την απόδοσή του στο training set μέσω της διαδικασίας προεπεξεργασίας και εύρεσης βέλτιστων υπερπαραμέτρων (δεν έχουν όλοι οι ταξινομητές υπερπαραμέτρους). Κάντε εκτίμηση στο test set (μαζί με τους dummy) και τυπώστε για κάθε estimator: confusion matrix, f1-micro average και f1-macro average.* <br>\n",
        "Θα ακολουθήσουμε τα βήματα επιλογή χαρακτηριστικών, κανονικοποίηση και στο τέλος τον ταξινομητή. Ο λόγος που δεν χρησιμοποιούμε το PCA για feature extraction είναι επειδή μετά την επιλογή χαρακτηριστικών βάζοντας το σωστό κατόφλι παίρνουμε πολύ πιο λίγα χαρακτηριστικά. Ως αποτέλεσμα ο αριθμός των δειγμάτων είναι πολύ μεγαλύτερος από τον αριθμό των χαρακτηριστικών και δεν χρειάζεται να μειώσουμε την διαστατικότητα. <br>\n",
        "Για να υπολογίσουμε τη τιμή του κατοφλίου που μας δίνει το βέλτιστο αποτέλεσμα για **f1 micro και macro** κάναμε δοκιμές με διάφορες τιμές και καταλήξαμε στο 0.1 που είχε την καλύτερη απόδοση.\n"
      ]
    },
    {
      "cell_type": "code",
      "metadata": {
        "id": "FefAxZqFyJso",
        "colab_type": "code",
        "outputId": "73248c3c-f0b6-4765-e10a-ef2894c4fb55",
        "colab": {
          "base_uri": "https://localhost:8080/",
          "height": 295
        }
      },
      "source": [
        "# Επιλογή χαρακτηριστικών με Variance Threshold\n",
        "# Για να καταλάβουμε τι τιμές μπορούμε να δοκιμάζουμε στο κατώφλι πρέπει να δούμε τη διακύμανση όλων των μεταβλητών:\n",
        "train_var = np.var(train, axis=0)\n",
        "print(train_var)\n",
        "print(train.shape)\n",
        "print(test.shape)\n",
        "print(\"max variance: \", np.max(train_var))\n",
        "print(\"min variance: \", np.min(train_var))"
      ],
      "execution_count": 0,
      "outputs": [
        {
          "output_type": "stream",
          "text": [
            "[1.26974293e+02 2.41984641e+01 1.18469312e+01 2.58092549e+01\n",
            " 2.85326022e+04 3.36399448e+07 2.15469532e-01 2.15469532e-01\n",
            " 3.81673786e-03 1.81118891e-01 1.79093084e-01 1.81118891e-01\n",
            " 3.81673786e-03 1.79093084e-01 7.07564481e-02 1.56049530e-01\n",
            " 6.42092747e-02 4.38631259e-02 3.50736190e-02 6.25541316e-02\n",
            " 7.55897594e-02 1.69441141e-02 6.25541316e-02 6.25541316e-02\n",
            " 1.10450522e-01 3.81673786e-03 8.66105900e-02 4.90487515e-02\n",
            " 7.71861834e-02 7.60411620e-03 6.74975411e-02 1.69613629e-01\n",
            " 1.32301346e-02 5.71409697e-03 3.81673786e-03 2.42568371e-01\n",
            " 9.48679555e-03 2.48810939e-01 2.48810939e-01 2.47122767e-01\n",
            " 2.47122767e-01 2.48223749e-01 2.48223749e-01 7.71861834e-02\n",
            " 1.91203887e-03 7.55897594e-02]\n",
            "(522, 46)\n",
            "(131, 46)\n",
            "max variance:  33639944.769747905\n",
            "min variance:  0.0019120388720071547\n"
          ],
          "name": "stdout"
        }
      ]
    },
    {
      "cell_type": "code",
      "metadata": {
        "id": "KfbyuHQEbQuw",
        "colab_type": "code",
        "outputId": "d1be9285-14e8-4edf-888b-f588be76747c",
        "colab": {
          "base_uri": "https://localhost:8080/",
          "height": 52
        }
      },
      "source": [
        "# Επιλογή χαρακτηριστικών με Variance Threshold\n",
        "from sklearn.feature_selection import VarianceThreshold\n",
        "\n",
        "# αρχικοποιούμε έναν selector\n",
        "selector = VarianceThreshold(threshold=0.1)\n",
        "# όπως κάναμε και με τους ταξινομητές τον κάνουμε fit στα δεδομένα εκπαίδευσης\n",
        "train_reduced = selector.fit_transform(train)\n",
        "# φτιάχνουμε μια μάσκα που μας λέει αν ο selector κρατάει ένα χαρακτηριστικό ή όχι\n",
        "mask = selector.get_support()\n",
        "test_reduced = selector.transform(test)\n",
        "print(test_reduced.shape)\n",
        "print(train_reduced.shape)"
      ],
      "execution_count": 0,
      "outputs": [
        {
          "output_type": "stream",
          "text": [
            "(131, 22)\n",
            "(522, 22)\n"
          ],
          "name": "stdout"
        }
      ]
    },
    {
      "cell_type": "code",
      "metadata": {
        "id": "d_qXiKpizdAo",
        "colab_type": "code",
        "outputId": "0bb2f50a-a22e-444e-f975-dc41a76c5e66",
        "colab": {
          "base_uri": "https://localhost:8080/",
          "height": 173
        }
      },
      "source": [
        "# Κανονικοποίηση χαρακτηριστικών με τη χρήση standar score\n",
        "from sklearn import preprocessing\n",
        "\n",
        "# standardization των features του training set\n",
        "train_scaled = preprocessing.scale(train_reduced)\n",
        "# μέση τιμη και απόκλιση των scaled χαρακτηριστικών\n",
        "print(\"Μέση τιμή των κανονικοποιημένων χαρακτηριστικών του train set\")\n",
        "print(train_scaled.mean(axis=0))\n",
        "print(\"Απόκλιση των κανονικοποιημένων χαρακτηριστικών του train set\")\n",
        "print(train_scaled.std(axis=0))\n"
      ],
      "execution_count": 0,
      "outputs": [
        {
          "output_type": "stream",
          "text": [
            "Μέση τιμή των κανονικοποιημένων χαρακτηριστικών του train set\n",
            "[-2.48417719e-16  5.78507017e-17  3.40298245e-18  1.36119298e-17\n",
            " -8.16715788e-17 -1.02089474e-17  3.57313157e-17 -3.57313157e-17\n",
            " -6.29551753e-17  5.10447368e-17 -6.29551753e-17  5.10447368e-17\n",
            "  1.27611842e-17  1.70149123e-18  2.55223684e-17  1.58238684e-16\n",
            "  1.15701403e-16  5.44477192e-17 -2.89253508e-17  2.89253508e-17\n",
            " -2.72238596e-17  2.72238596e-17]\n",
            "Απόκλιση των κανονικοποιημένων χαρακτηριστικών του train set\n",
            "[1. 1. 1. 1. 1. 1. 1. 1. 1. 1. 1. 1. 1. 1. 1. 1. 1. 1. 1. 1. 1. 1.]\n"
          ],
          "name": "stdout"
        }
      ]
    },
    {
      "cell_type": "code",
      "metadata": {
        "id": "emxjEYzK2mwj",
        "colab_type": "code",
        "outputId": "ecba116d-0037-4e7e-e854-5acc60925a46",
        "colab": {
          "base_uri": "https://localhost:8080/",
          "height": 191
        }
      },
      "source": [
        "# όριζουμε ένα αντικείμενο scaler και το κάνουμε fit στο train set\n",
        "scaler = preprocessing.StandardScaler().fit(train_reduced)\n",
        "# εφαρμόζουμε τον scaler στα δεδομένα test.\n",
        "test_scaled = scaler.transform(test_reduced)\n",
        "\n",
        "# και τυπώνουμε τη μέση τιμή και απόκλιση του test set \n",
        "print(\"Μέση τιμή των κανονικοποιημένων χαρακτηριστικών του test set\")\n",
        "print(test_scaled.mean(axis=0))\n",
        "print(\"Απόκλιση των κανονικοποιημένων χαρακτηριστικών του test set\")\n",
        "print(test_scaled.std(axis=0))"
      ],
      "execution_count": 0,
      "outputs": [
        {
          "output_type": "stream",
          "text": [
            "Μέση τιμή των κανονικοποιημένων χαρακτηριστικών του test set\n",
            "[ 0.21648968  0.05256117 -0.04929469 -0.00902419  0.07297574 -0.08654749\n",
            " -0.03547347  0.03547347  0.02006731 -0.01112691  0.02006731 -0.01112691\n",
            "  0.12856766 -0.17372066 -0.080781   -0.02779182  0.00026386 -0.00026386\n",
            "  0.06868924 -0.06868924 -0.04628798  0.04628798]\n",
            "Απόκλιση των κανονικοποιημένων χαρακτηριστικών του test set\n",
            "[1.21290778 1.10039072 0.88753932 0.88072894 0.97554584 0.30381387\n",
            " 0.98505842 0.98505842 0.98734321 0.99291166 0.98734321 0.99291166\n",
            " 1.08765224 0.76110748 0.93928166 1.00446837 1.00001821 1.00001821\n",
            " 0.99018095 0.99018095 1.00284028 1.00284028]\n"
          ],
          "name": "stdout"
        }
      ]
    },
    {
      "cell_type": "code",
      "metadata": {
        "id": "38r3JVT-s8Yc",
        "colab_type": "code",
        "colab": {}
      },
      "source": [
        "from sklearn.metrics import precision_recall_fscore_support\n",
        "#Υλοποίηση cross validation χωρίς τη χρήση έτοιμων συναρτήσεων\n",
        "#Χωρίζουμε το dataset σε 10-folds\n",
        "folds = []\n",
        "folds_labels = []\n",
        "instansces_per_fold = int(train_scaled.shape[0]/10)\n",
        "additional_instances = train_scaled.shape[0] % 10\n",
        "\n",
        "for i in range(0,10):\n",
        "  folds.append(train_scaled[i*instansces_per_fold:(i+1)*instansces_per_fold,:])\n",
        "  folds_labels.append(train_labels[i*instansces_per_fold:(i+1)*instansces_per_fold])\n",
        "\n",
        "# φτιάχνουμε μια λίστα από το 1 έως το instansces_per_fold\n",
        "myList = list(range(1,instansces_per_fold))\n",
        "# Κρατάμε μόνο τα περιττά k\n",
        "neighbors = list(filter(lambda x: x % 2 != 0, myList))\n",
        "\n",
        "f1_micro_cv_scores = []\n",
        "f1_macro_cv_scores = []\n",
        "avg_micro_list = []\n",
        "avg_macro_list = []\n",
        "#Κάνουμε 10-fold cross validation\n",
        "for k in neighbors:\n",
        "  knn = KNeighborsClassifier(n_neighbors=k)\n",
        "  for i in range(0,10):\n",
        "    for j in range(0,10):\n",
        "      if j != i:\n",
        "        knn.fit(folds[j], folds_labels[j])    \n",
        "    #Αποθηκεύουμε την τιμή της στον πίνακά μας με βάση το f1 micro και το f1 macro\n",
        "    knn_predict = knn.predict(folds[i])\n",
        "    avg_micro = precision_recall_fscore_support(folds_labels[i], knn_predict, average='micro', zero_division=0)\n",
        "    avg_micro_list.append(avg_micro[2])\n",
        "    avg_macro = precision_recall_fscore_support(folds_labels[i], knn_predict, average='macro', zero_division=0)\n",
        "    avg_macro_list.append(avg_micro[2])\n",
        "  f1_micro_cv_scores.append(np.mean(avg_micro_list))\n",
        "  f1_macro_cv_scores.append(np.mean(avg_macro_list))"
      ],
      "execution_count": 0,
      "outputs": []
    },
    {
      "cell_type": "markdown",
      "metadata": {
        "id": "A6x5SfmGQ9Cl",
        "colab_type": "text"
      },
      "source": [
        "2. *Για το τελικό fit του κάθε ταξινομητή στο σύνολο του training set και για το predict στο test set εκτυπώστε πίνακες με τους χρόνους εκτέλεσης.*"
      ]
    },
    {
      "cell_type": "code",
      "metadata": {
        "id": "nmKVJImOTQ0X",
        "colab_type": "code",
        "outputId": "30d5c30f-e33b-48e0-9145-798eda69e63a",
        "colab": {
          "base_uri": "https://localhost:8080/",
          "height": 732
        }
      },
      "source": [
        "import time\n",
        "from sklearn.metrics import precision_recall_fscore_support\n",
        "\n",
        "# το σφάλμα είναι το αντίστροφο της πιστότητας\n",
        "mean_error_micro = [1 - x for x in f1_micro_cv_scores]\n",
        "mean_error_macro = [1 - x for x in f1_macro_cv_scores]\n",
        "\n",
        "# plot misclassification error vs k\n",
        "plt.plot(neighbors, mean_error_micro)\n",
        "plt.xlabel('Number of Neighbors K')\n",
        "plt.ylabel('Misclassification Error F1 micro')\n",
        "plt.show()\n",
        "\n",
        "plt.plot(neighbors, mean_error_macro)\n",
        "plt.xlabel('Number of Neighbors K')\n",
        "plt.ylabel('Misclassification Error F1 macro')\n",
        "plt.show()\n",
        "\n",
        "# determining best k\n",
        "optimal_k_micro = neighbors[mean_error_micro.index(min(mean_error_micro))]\n",
        "print(\"The optimal number of neighbors (calculated in the training set with metric F1 micro) is %d\" % optimal_k_micro)\n",
        "optimal_k_macro = neighbors[mean_error_macro.index(min(mean_error_macro))]\n",
        "print(\"The optimal number of neighbors (calculated in the training set with metric F1 macro) is %d\" % optimal_k_macro)\n",
        "\n",
        "train_time =[]\n",
        "test_time = []\n",
        "# για το optimal k παίρνουμε και τα αποτέλεσματα στο test set για F1 micro\n",
        "knn = KNeighborsClassifier(n_neighbors = optimal_k_micro)\n",
        "train_start_time = time.time()\n",
        "knn.fit(train_scaled, train_labels)\n",
        "train_time.append(time.time()-train_start_time)\n",
        "test_start_time = time.time()\n",
        "pred_micro = knn.predict(test_scaled)\n",
        "test_time.append(time.time()-test_start_time)\n",
        "f1_micro = precision_recall_fscore_support(test_labels, pred_micro, average='micro', zero_division=0)\n",
        "print(\"\\nOptimal f1 micro score on the test set is\", f1_micro[2], \"with k=\", optimal_k_micro)\n",
        "\n",
        "\n",
        "# για το optimal k παίρνουμε και τα αποτέλεσματα στο test set για F1 macro\n",
        "knn = KNeighborsClassifier(n_neighbors = optimal_k_macro)\n",
        "train_start_time = time.time()\n",
        "knn.fit(train_scaled, train_labels)\n",
        "train_time.append(time.time()-train_start_time)\n",
        "test_start_time = time.time()\n",
        "pred_macro = knn.predict(test_scaled)\n",
        "test_time.append(time.time()-test_start_time)\n",
        "f1_macro = precision_recall_fscore_support(test_labels, pred_macro, average='macro', zero_division=0)\n",
        "print(\"\\nOptimal f1 macro score on the test set is\", f1_macro[2], \"with k=\", optimal_k_macro)\n",
        "\n",
        "print(\"\\nΣυνολικός χρόνος fit στο train set για micro: %s seconds\" % (train_time[0]))\n",
        "print(\"Συνολικός χρόνος predict στο test set για micro: %s seconds\" % (test_time[0]))\n",
        "print(\"Συνολικός χρόνος fit στο train set για macro: %s seconds\" % (train_time[1]))\n",
        "print(\"Συνολικός χρόνος predict στο test set για macro: %s seconds\" % (test_time[1]))"
      ],
      "execution_count": 0,
      "outputs": [
        {
          "output_type": "display_data",
          "data": {
            "image/png": "[encoded data removed]",
            "text/plain": [
              "<Figure size 432x288 with 1 Axes>"
            ]
          },
          "metadata": {
            "tags": []
          }
        },
        {
          "output_type": "display_data",
          "data": {
            "image/png": "[encoded data removed]",
            "text/plain": [
              "<Figure size 432x288 with 1 Axes>"
            ]
          },
          "metadata": {
            "tags": []
          }
        },
        {
          "output_type": "stream",
          "text": [
            "The optimal number of neighbors (calculated in the training set with metric F1 micro) is 7\n",
            "The optimal number of neighbors (calculated in the training set with metric F1 macro) is 7\n",
            "\n",
            "Optimal f1 micro score on the test set is 0.8320610687022901 with k= 7\n",
            "\n",
            "Optimal f1 macro score on the test set is 0.8291844476055003 with k= 7\n",
            "\n",
            "Συνολικός χρόνος fit στο train set για micro: 0.0018367767333984375 seconds\n",
            "Συνολικός χρόνος predict στο test set για micro: 0.011526346206665039 seconds\n",
            "Συνολικός χρόνος fit στο train set για macro: 0.0012426376342773438 seconds\n",
            "Συνολικός χρόνος predict στο test set για macro: 0.0070095062255859375 seconds\n"
          ],
          "name": "stdout"
        }
      ]
    },
    {
      "cell_type": "markdown",
      "metadata": {
        "id": "3VZEXahcR6Kq",
        "colab_type": "text"
      },
      "source": [
        "3. *Για κάθε averaged metric, εκτυπώστε bar plot σύγκρισης με τις τιμές του συγκεκριμένου f1 για όλους τους classifiers.*\n"
      ]
    },
    {
      "cell_type": "code",
      "metadata": {
        "id": "My2eZhePR70o",
        "colab_type": "code",
        "outputId": "0f37f1f3-cbc2-406d-fab1-b9f085b65787",
        "colab": {
          "base_uri": "https://localhost:8080/",
          "height": 828
        }
      },
      "source": [
        "import matplotlib.pyplot as plt\n",
        "\n",
        "# classifiers = list(spam_pred.keys())\n",
        "\n",
        "y = np.arange(len(classifiers))\n",
        "\n",
        "fig1, ax1 = plt.subplots()\n",
        "fig1.set_size_inches(8,4)\n",
        "\n",
        "micro_avg_f1[-1] = f1_micro[2]\n",
        "plt.bar(y, micro_avg_f1, align='center')\n",
        "plt.xticks(y, classifiers, rotation = 60, fontsize = 12)\n",
        "plt.title(\"f1 score for micro average\", fontsize = 18)\n",
        "plt.xlabel(\"$Classifiers$\", fontsize = 16)\n",
        "plt.ylabel(\"$f1\\ score$\", fontsize = 16)\n",
        "plt.show()\n",
        "\n",
        "print(\"\\n\")\n",
        "\n",
        "#Bar for f1-macro average\n",
        "fig2, ax2 = plt.subplots()\n",
        "fig2.set_size_inches(8,4)\n",
        "\n",
        "macro_avg_f1[-1] = f1_macro[2]\n",
        "plt.bar(y, macro_avg_f1, align='center')\n",
        "plt.xticks(y, classifiers, rotation = 60, fontsize = 12)\n",
        "plt.title(\"f1 score for macro average\", fontsize = 18)\n",
        "plt.xlabel(\"$Classifiers$\", fontsize = 16)\n",
        "plt.ylabel(\"$f1\\ score$\", fontsize = 16)\n",
        "plt.show()"
      ],
      "execution_count": 0,
      "outputs": [
        {
          "output_type": "display_data",
          "data": {
            "image/png": "[encoded data removed]",
            "text/plain": [
              "<Figure size 576x288 with 1 Axes>"
            ]
          },
          "metadata": {
            "tags": []
          }
        },
        {
          "output_type": "stream",
          "text": [
            "\n",
            "\n"
          ],
          "name": "stdout"
        },
        {
          "output_type": "display_data",
          "data": {
            "image/png": "[encoded data removed]",
            "text/plain": [
              "<Figure size 576x288 with 1 Axes>"
            ]
          },
          "metadata": {
            "tags": []
          }
        }
      ]
    },
    {
      "cell_type": "markdown",
      "metadata": {
        "id": "AsAkomjOSwUJ",
        "colab_type": "text"
      },
      "source": [
        "4. *Τυπώστε πίνακα με τη μεταβολή της επίδοσης των ταξινομητών πριν και μετά τη βελτιστοποίησή τους.*\n"
      ]
    },
    {
      "cell_type": "code",
      "metadata": {
        "id": "M_fYQxBySxpf",
        "colab_type": "code",
        "outputId": "6dd0ffc8-c612-4908-f669-352d1468515a",
        "colab": {
          "base_uri": "https://localhost:8080/",
          "height": 110
        }
      },
      "source": [
        "f1_progress = [[f1_first_macro, f1_first_micro],[f1_macro[2], f1_micro[2]]]\n",
        "pd.DataFrame(f1_progress, columns=[\"f1 macro score \", \"f1 micro score\"], index = [\"before\", \"after\"])"
      ],
      "execution_count": 0,
      "outputs": [
        {
          "output_type": "execute_result",
          "data": {
            "text/html": [
              "<div>\n",
              "<style scoped>\n",
              "    .dataframe tbody tr th:only-of-type {\n",
              "        vertical-align: middle;\n",
              "    }\n",
              "\n",
              "    .dataframe tbody tr th {\n",
              "        vertical-align: top;\n",
              "    }\n",
              "\n",
              "    .dataframe thead th {\n",
              "        text-align: right;\n",
              "    }\n",
              "</style>\n",
              "<table border=\"1\" class=\"dataframe\">\n",
              "  <thead>\n",
              "    <tr style=\"text-align: right;\">\n",
              "      <th></th>\n",
              "      <th>f1 macro score</th>\n",
              "      <th>f1 micro score</th>\n",
              "    </tr>\n",
              "  </thead>\n",
              "  <tbody>\n",
              "    <tr>\n",
              "      <th>before</th>\n",
              "      <td>0.693650</td>\n",
              "      <td>0.702290</td>\n",
              "    </tr>\n",
              "    <tr>\n",
              "      <th>after</th>\n",
              "      <td>0.829184</td>\n",
              "      <td>0.832061</td>\n",
              "    </tr>\n",
              "  </tbody>\n",
              "</table>\n",
              "</div>"
            ],
            "text/plain": [
              "        f1 macro score   f1 micro score\n",
              "before         0.693650        0.702290\n",
              "after          0.829184        0.832061"
            ]
          },
          "metadata": {
            "tags": []
          },
          "execution_count": 76
        }
      ]
    },
    {
      "cell_type": "markdown",
      "metadata": {
        "id": "TF1HgKmFXfNc",
        "colab_type": "text"
      },
      "source": [
        "5. *Σχολιάστε τα αποτελέσματα των plots και των τιμών precision, recall, f1 των πινάκων σύγχυσης, τη μεταβολή της απόδοσης και τους χρόνους εκτέλεσης.*<br>\n"
      ]
    },
    {
      "cell_type": "code",
      "metadata": {
        "id": "AAJptmqnYYK4",
        "colab_type": "code",
        "outputId": "5837f76f-5f2f-47d0-a60c-92d01e63fcdd",
        "colab": {
          "base_uri": "https://localhost:8080/",
          "height": 214
        }
      },
      "source": [
        "f1 = []\n",
        "cnf_matrix_micro = confusion_matrix(test_labels, pred_micro)\n",
        "cnf_matrix_macro = confusion_matrix(test_labels, pred_micro)\n",
        "f1_micro = precision_recall_fscore_support(test_labels, pred_micro, average='micro')\n",
        "f1_macro = precision_recall_fscore_support(test_labels, pred_macro, average='macro')\n",
        "f1.append(f1_macro)\n",
        "f1.append(f1_micro)\n",
        "print(\"Confusion matrix for f1 micro\")\n",
        "print(cnf_matrix_micro)\n",
        "print(\"Confusion matrix for f1 macro\")\n",
        "print(cnf_matrix_macro)\n",
        "pd.DataFrame(f1, columns=[\"Precision\", \"Recall\", \"Fscore\", \"Support\"], index = [\"micro\",\"macro\"])\n"
      ],
      "execution_count": 0,
      "outputs": [
        {
          "output_type": "stream",
          "text": [
            "Confusion matrix for f1 micro\n",
            "[[63  8]\n",
            " [14 46]]\n",
            "Confusion matrix for f1 macro\n",
            "[[63  8]\n",
            " [14 46]]\n"
          ],
          "name": "stdout"
        },
        {
          "output_type": "execute_result",
          "data": {
            "text/html": [
              "<div>\n",
              "<style scoped>\n",
              "    .dataframe tbody tr th:only-of-type {\n",
              "        vertical-align: middle;\n",
              "    }\n",
              "\n",
              "    .dataframe tbody tr th {\n",
              "        vertical-align: top;\n",
              "    }\n",
              "\n",
              "    .dataframe thead th {\n",
              "        text-align: right;\n",
              "    }\n",
              "</style>\n",
              "<table border=\"1\" class=\"dataframe\">\n",
              "  <thead>\n",
              "    <tr style=\"text-align: right;\">\n",
              "      <th></th>\n",
              "      <th>Precision</th>\n",
              "      <th>Recall</th>\n",
              "      <th>Fscore</th>\n",
              "      <th>Support</th>\n",
              "    </tr>\n",
              "  </thead>\n",
              "  <tbody>\n",
              "    <tr>\n",
              "      <th>micro</th>\n",
              "      <td>0.835017</td>\n",
              "      <td>0.826995</td>\n",
              "      <td>0.829184</td>\n",
              "      <td>None</td>\n",
              "    </tr>\n",
              "    <tr>\n",
              "      <th>macro</th>\n",
              "      <td>0.832061</td>\n",
              "      <td>0.832061</td>\n",
              "      <td>0.832061</td>\n",
              "      <td>None</td>\n",
              "    </tr>\n",
              "  </tbody>\n",
              "</table>\n",
              "</div>"
            ],
            "text/plain": [
              "       Precision    Recall    Fscore Support\n",
              "micro   0.835017  0.826995  0.829184    None\n",
              "macro   0.832061  0.832061  0.832061    None"
            ]
          },
          "metadata": {
            "tags": []
          },
          "execution_count": 77
        }
      ]
    },
    {
      "cell_type": "markdown",
      "metadata": {
        "id": "qSrEk4gp8OF0",
        "colab_type": "text"
      },
      "source": [
        "Όσο αφορά τα plots παρατηρούμε τη βελτίωση του knn σε σύγκριση με τα προηγούμενα plots και για τα δύο metrics (micro και macro). Οι άλλοι ταξινομητές(dummies) βγάζουν τα ίδια αποτελέσματα όπως είναι αναμενόμενο. <br>\n",
        "Όσο αφορά τις τιμές precision, recall και f1 των πινάκων σύγχισης παρατηρούμε ότι και αυτές βελτιώνονται. Πιο συγκεκριμένα τώρα έχουμε λιγότερα false negatives και false positives άρα έχουμε καλύτερο precision και recall και για τις δύο κλάσεις. Παρατηρούμε βελτίωση στην απόδοση του knn ταξινομητή της τάξης του 15%.\n",
        "Επίσης βλέπουμε ότι ο χρόνος εκπαίδευσης και πρόβλεψης είναι πολύ μικροί (της τάξης των ms). Αυτό οφείλεται στο ότι τα δεδομένα είναι πολύ λίγα ήδη από το στάδιο της προεπεξεργασίας. <br>\n",
        "Γενικά τα δύο averaged metrics (micro και macro) βγάζουν πολύ κοντινά αποτελέσματα με πολύ μικρές διαφορές μεταξύ τους, ουσιαστικά ασήμαντες."
      ]
    }
  ]
}